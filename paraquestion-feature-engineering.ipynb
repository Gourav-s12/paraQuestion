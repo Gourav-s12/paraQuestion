{
 "cells": [
  {
   "cell_type": "markdown",
   "id": "478acfec",
   "metadata": {
    "papermill": {
     "duration": 0.01219,
     "end_time": "2023-05-15T08:47:46.836352",
     "exception": false,
     "start_time": "2023-05-15T08:47:46.824162",
     "status": "completed"
    },
    "tags": []
   },
   "source": [
    "# Feature Engineering"
   ]
  },
  {
   "cell_type": "markdown",
   "id": "db90ab90",
   "metadata": {
    "papermill": {
     "duration": 0.00963,
     "end_time": "2023-05-15T08:47:46.856241",
     "exception": false,
     "start_time": "2023-05-15T08:47:46.846611",
     "status": "completed"
    },
    "tags": []
   },
   "source": [
    "## Imports"
   ]
  },
  {
   "cell_type": "code",
   "execution_count": 1,
   "id": "637c5539",
   "metadata": {
    "execution": {
     "iopub.execute_input": "2023-05-15T08:47:46.880752Z",
     "iopub.status.busy": "2023-05-15T08:47:46.879258Z",
     "iopub.status.idle": "2023-05-15T08:47:46.893098Z",
     "shell.execute_reply": "2023-05-15T08:47:46.892261Z"
    },
    "papermill": {
     "duration": 0.029575,
     "end_time": "2023-05-15T08:47:46.895713",
     "exception": false,
     "start_time": "2023-05-15T08:47:46.866138",
     "status": "completed"
    },
    "tags": []
   },
   "outputs": [],
   "source": [
    "import pandas as pd"
   ]
  },
  {
   "cell_type": "markdown",
   "id": "76918b12",
   "metadata": {
    "papermill": {
     "duration": 0.009918,
     "end_time": "2023-05-15T08:47:46.915767",
     "exception": false,
     "start_time": "2023-05-15T08:47:46.905849",
     "status": "completed"
    },
    "tags": []
   },
   "source": [
    "### Spacy\n",
    "For the features of the words we're going to use spacy. Once we tokenize the text, we can access features like Part of speech and others."
   ]
  },
  {
   "cell_type": "code",
   "execution_count": 2,
   "id": "889f5623",
   "metadata": {
    "execution": {
     "iopub.execute_input": "2023-05-15T08:47:46.938171Z",
     "iopub.status.busy": "2023-05-15T08:47:46.937380Z",
     "iopub.status.idle": "2023-05-15T08:47:59.794593Z",
     "shell.execute_reply": "2023-05-15T08:47:59.793317Z"
    },
    "papermill": {
     "duration": 12.871687,
     "end_time": "2023-05-15T08:47:59.797554",
     "exception": false,
     "start_time": "2023-05-15T08:47:46.925867",
     "status": "completed"
    },
    "tags": []
   },
   "outputs": [],
   "source": [
    "import spacy\n",
    "nlp = spacy.load('en_core_web_sm')"
   ]
  },
  {
   "cell_type": "markdown",
   "id": "9b1d1d03",
   "metadata": {
    "papermill": {
     "duration": 0.009831,
     "end_time": "2023-05-15T08:47:59.817914",
     "exception": false,
     "start_time": "2023-05-15T08:47:59.808083",
     "status": "completed"
    },
    "tags": []
   },
   "source": [
    "#### Displaying progress\n",
    "tqdm is a progress bar. It will come usefeful when we extract the answers for all the articles."
   ]
  },
  {
   "cell_type": "code",
   "execution_count": 3,
   "id": "5d8c13ec",
   "metadata": {
    "execution": {
     "iopub.execute_input": "2023-05-15T08:47:59.841099Z",
     "iopub.status.busy": "2023-05-15T08:47:59.840386Z",
     "iopub.status.idle": "2023-05-15T08:47:59.846216Z",
     "shell.execute_reply": "2023-05-15T08:47:59.844985Z"
    },
    "papermill": {
     "duration": 0.020033,
     "end_time": "2023-05-15T08:47:59.848626",
     "exception": false,
     "start_time": "2023-05-15T08:47:59.828593",
     "status": "completed"
    },
    "tags": []
   },
   "outputs": [],
   "source": [
    "from tqdm import tqdm"
   ]
  },
  {
   "cell_type": "code",
   "execution_count": 4,
   "id": "67f4455c",
   "metadata": {
    "execution": {
     "iopub.execute_input": "2023-05-15T08:47:59.871199Z",
     "iopub.status.busy": "2023-05-15T08:47:59.870387Z",
     "iopub.status.idle": "2023-05-15T08:48:04.900789Z",
     "shell.execute_reply": "2023-05-15T08:48:04.899910Z"
    },
    "papermill": {
     "duration": 5.045211,
     "end_time": "2023-05-15T08:48:04.903875",
     "exception": false,
     "start_time": "2023-05-15T08:47:59.858664",
     "status": "completed"
    },
    "tags": []
   },
   "outputs": [
    {
     "name": "stderr",
     "output_type": "stream",
     "text": [
      "100%|██████████| 10/10 [00:05<00:00,  1.99it/s]\n"
     ]
    }
   ],
   "source": [
    "import time\n",
    "\n",
    "for i in tqdm(range(10)):\n",
    "    time.sleep(0.5)"
   ]
  },
  {
   "cell_type": "markdown",
   "id": "4aa279c8",
   "metadata": {
    "papermill": {
     "duration": 0.01069,
     "end_time": "2023-05-15T08:48:04.926004",
     "exception": false,
     "start_time": "2023-05-15T08:48:04.915314",
     "status": "completed"
    },
    "tags": []
   },
   "source": [
    "#### Pickling\n",
    "Once we extract all the words from the texts, we'll save them using pickle. Then we can easily use them in the other modules and have to wait for them to generat again."
   ]
  },
  {
   "cell_type": "code",
   "execution_count": 5,
   "id": "ff13fe67",
   "metadata": {
    "execution": {
     "iopub.execute_input": "2023-05-15T08:48:04.949546Z",
     "iopub.status.busy": "2023-05-15T08:48:04.949102Z",
     "iopub.status.idle": "2023-05-15T08:48:04.956840Z",
     "shell.execute_reply": "2023-05-15T08:48:04.955495Z"
    },
    "papermill": {
     "duration": 0.022481,
     "end_time": "2023-05-15T08:48:04.959490",
     "exception": false,
     "start_time": "2023-05-15T08:48:04.937009",
     "status": "completed"
    },
    "tags": []
   },
   "outputs": [],
   "source": [
    "import _pickle as cPickle\n",
    "from pathlib import Path\n",
    "\n",
    "def dumpPickle(fileName, content):\n",
    "    pickleFile = open(fileName, 'wb')\n",
    "    cPickle.dump(content, pickleFile, -1)\n",
    "    pickleFile.close()\n",
    "\n",
    "def loadPickle(fileName):    \n",
    "    file = open(fileName, 'rb')\n",
    "    content = cPickle.load(file)\n",
    "    file.close()\n",
    "    \n",
    "    return content\n",
    "    \n",
    "def pickleExists(fileName):\n",
    "    file = Path(fileName)\n",
    "    \n",
    "    if file.is_file():\n",
    "        return True\n",
    "    \n",
    "    return False"
   ]
  },
  {
   "cell_type": "markdown",
   "id": "502bec6f",
   "metadata": {
    "papermill": {
     "duration": 0.010493,
     "end_time": "2023-05-15T08:48:04.980941",
     "exception": false,
     "start_time": "2023-05-15T08:48:04.970448",
     "status": "completed"
    },
    "tags": []
   },
   "source": [
    "## Reading the dataset"
   ]
  },
  {
   "cell_type": "code",
   "execution_count": 6,
   "id": "07fd5047",
   "metadata": {
    "execution": {
     "iopub.execute_input": "2023-05-15T08:48:05.004778Z",
     "iopub.status.busy": "2023-05-15T08:48:05.004356Z",
     "iopub.status.idle": "2023-05-15T08:48:06.211992Z",
     "shell.execute_reply": "2023-05-15T08:48:06.210779Z"
    },
    "papermill": {
     "duration": 1.223903,
     "end_time": "2023-05-15T08:48:06.215811",
     "exception": false,
     "start_time": "2023-05-15T08:48:04.991908",
     "status": "completed"
    },
    "tags": []
   },
   "outputs": [],
   "source": [
    "train = pd.read_json('../input/stanford-question-answering-dataset/train-v1.1.json', orient='column')\n",
    "dev = pd.read_json('../input/stanford-question-answering-dataset/dev-v1.1.json', orient='column')\n",
    "\n",
    "df = pd.concat([train, dev], ignore_index=True)"
   ]
  },
  {
   "cell_type": "code",
   "execution_count": 7,
   "id": "e9afb17a",
   "metadata": {
    "execution": {
     "iopub.execute_input": "2023-05-15T08:48:06.240984Z",
     "iopub.status.busy": "2023-05-15T08:48:06.240544Z",
     "iopub.status.idle": "2023-05-15T08:48:06.335073Z",
     "shell.execute_reply": "2023-05-15T08:48:06.333966Z"
    },
    "papermill": {
     "duration": 0.110376,
     "end_time": "2023-05-15T08:48:06.337762",
     "exception": false,
     "start_time": "2023-05-15T08:48:06.227386",
     "status": "completed"
    },
    "tags": []
   },
   "outputs": [
    {
     "data": {
      "text/html": [
       "<div>\n",
       "<style scoped>\n",
       "    .dataframe tbody tr th:only-of-type {\n",
       "        vertical-align: middle;\n",
       "    }\n",
       "\n",
       "    .dataframe tbody tr th {\n",
       "        vertical-align: top;\n",
       "    }\n",
       "\n",
       "    .dataframe thead th {\n",
       "        text-align: right;\n",
       "    }\n",
       "</style>\n",
       "<table border=\"1\" class=\"dataframe\">\n",
       "  <thead>\n",
       "    <tr style=\"text-align: right;\">\n",
       "      <th></th>\n",
       "      <th>data</th>\n",
       "      <th>version</th>\n",
       "    </tr>\n",
       "  </thead>\n",
       "  <tbody>\n",
       "    <tr>\n",
       "      <th>0</th>\n",
       "      <td>{'title': 'University_of_Notre_Dame', 'paragra...</td>\n",
       "      <td>1.1</td>\n",
       "    </tr>\n",
       "    <tr>\n",
       "      <th>1</th>\n",
       "      <td>{'title': 'Beyoncé', 'paragraphs': [{'context'...</td>\n",
       "      <td>1.1</td>\n",
       "    </tr>\n",
       "    <tr>\n",
       "      <th>2</th>\n",
       "      <td>{'title': 'Montana', 'paragraphs': [{'context'...</td>\n",
       "      <td>1.1</td>\n",
       "    </tr>\n",
       "    <tr>\n",
       "      <th>3</th>\n",
       "      <td>{'title': 'Genocide', 'paragraphs': [{'context...</td>\n",
       "      <td>1.1</td>\n",
       "    </tr>\n",
       "    <tr>\n",
       "      <th>4</th>\n",
       "      <td>{'title': 'Antibiotics', 'paragraphs': [{'cont...</td>\n",
       "      <td>1.1</td>\n",
       "    </tr>\n",
       "  </tbody>\n",
       "</table>\n",
       "</div>"
      ],
      "text/plain": [
       "                                                data  version\n",
       "0  {'title': 'University_of_Notre_Dame', 'paragra...      1.1\n",
       "1  {'title': 'Beyoncé', 'paragraphs': [{'context'...      1.1\n",
       "2  {'title': 'Montana', 'paragraphs': [{'context'...      1.1\n",
       "3  {'title': 'Genocide', 'paragraphs': [{'context...      1.1\n",
       "4  {'title': 'Antibiotics', 'paragraphs': [{'cont...      1.1"
      ]
     },
     "execution_count": 7,
     "metadata": {},
     "output_type": "execute_result"
    }
   ],
   "source": [
    "df.head()"
   ]
  },
  {
   "cell_type": "markdown",
   "id": "6f300d29",
   "metadata": {
    "papermill": {
     "duration": 0.010864,
     "end_time": "2023-05-15T08:48:06.360560",
     "exception": false,
     "start_time": "2023-05-15T08:48:06.349696",
     "status": "completed"
    },
    "tags": []
   },
   "source": [
    "## Extracting words from a paragrapgh"
   ]
  },
  {
   "cell_type": "code",
   "execution_count": 8,
   "id": "b4f6e341",
   "metadata": {
    "execution": {
     "iopub.execute_input": "2023-05-15T08:48:06.385707Z",
     "iopub.status.busy": "2023-05-15T08:48:06.385282Z",
     "iopub.status.idle": "2023-05-15T08:48:06.391474Z",
     "shell.execute_reply": "2023-05-15T08:48:06.390195Z"
    },
    "papermill": {
     "duration": 0.021981,
     "end_time": "2023-05-15T08:48:06.394294",
     "exception": false,
     "start_time": "2023-05-15T08:48:06.372313",
     "status": "completed"
    },
    "tags": []
   },
   "outputs": [],
   "source": [
    "currText = df['data'][0]['paragraphs'][0]['context']\n",
    "currQas = df['data'][0]['paragraphs'][0]['qas']"
   ]
  },
  {
   "cell_type": "code",
   "execution_count": 9,
   "id": "c7f4b975",
   "metadata": {
    "execution": {
     "iopub.execute_input": "2023-05-15T08:48:06.419378Z",
     "iopub.status.busy": "2023-05-15T08:48:06.418533Z",
     "iopub.status.idle": "2023-05-15T08:48:06.471558Z",
     "shell.execute_reply": "2023-05-15T08:48:06.470206Z"
    },
    "papermill": {
     "duration": 0.067893,
     "end_time": "2023-05-15T08:48:06.474291",
     "exception": false,
     "start_time": "2023-05-15T08:48:06.406398",
     "status": "completed"
    },
    "tags": []
   },
   "outputs": [],
   "source": [
    "currDoc = nlp(currText)"
   ]
  },
  {
   "cell_type": "code",
   "execution_count": 10,
   "id": "1fadfb88",
   "metadata": {
    "execution": {
     "iopub.execute_input": "2023-05-15T08:48:06.498640Z",
     "iopub.status.busy": "2023-05-15T08:48:06.498194Z",
     "iopub.status.idle": "2023-05-15T08:48:06.505806Z",
     "shell.execute_reply": "2023-05-15T08:48:06.504453Z"
    },
    "papermill": {
     "duration": 0.022672,
     "end_time": "2023-05-15T08:48:06.508238",
     "exception": false,
     "start_time": "2023-05-15T08:48:06.485566",
     "status": "completed"
    },
    "tags": []
   },
   "outputs": [],
   "source": [
    "#Extract answers and the sentence they are in\n",
    "def extractAnswers(qas, doc):\n",
    "    answers = []\n",
    "\n",
    "    senStart = 0\n",
    "    senId = 0\n",
    "\n",
    "    for sentence in doc.sents:\n",
    "        senLen = len(sentence.text)\n",
    "\n",
    "        for answer in qas:\n",
    "            answerStart = answer['answers'][0]['answer_start']\n",
    "\n",
    "            if (answerStart >= senStart and answerStart < (senStart + senLen)):\n",
    "                answers.append({'sentenceId': senId, 'text': answer['answers'][0]['text']})\n",
    "\n",
    "        senStart += senLen\n",
    "        senId += 1\n",
    "    \n",
    "    return answers"
   ]
  },
  {
   "cell_type": "code",
   "execution_count": 11,
   "id": "2e43d68e",
   "metadata": {
    "execution": {
     "iopub.execute_input": "2023-05-15T08:48:06.533172Z",
     "iopub.status.busy": "2023-05-15T08:48:06.532731Z",
     "iopub.status.idle": "2023-05-15T08:48:06.542559Z",
     "shell.execute_reply": "2023-05-15T08:48:06.541373Z"
    },
    "papermill": {
     "duration": 0.025119,
     "end_time": "2023-05-15T08:48:06.544946",
     "exception": false,
     "start_time": "2023-05-15T08:48:06.519827",
     "status": "completed"
    },
    "tags": []
   },
   "outputs": [
    {
     "data": {
      "text/plain": [
       "[{'sentenceId': 1, 'text': 'a golden statue of the Virgin Mary'},\n",
       " {'sentenceId': 2, 'text': 'a copper statue of Christ'},\n",
       " {'sentenceId': 3, 'text': 'the Main Building'},\n",
       " {'sentenceId': 4, 'text': 'a Marian place of prayer and reflection'},\n",
       " {'sentenceId': 5, 'text': 'Saint Bernadette Soubirous'}]"
      ]
     },
     "execution_count": 11,
     "metadata": {},
     "output_type": "execute_result"
    }
   ],
   "source": [
    "currAnswers = extractAnswers(currQas, currDoc)\n",
    "currAnswers"
   ]
  },
  {
   "cell_type": "code",
   "execution_count": 12,
   "id": "56d025cd",
   "metadata": {
    "execution": {
     "iopub.execute_input": "2023-05-15T08:48:06.568991Z",
     "iopub.status.busy": "2023-05-15T08:48:06.568584Z",
     "iopub.status.idle": "2023-05-15T08:48:06.575376Z",
     "shell.execute_reply": "2023-05-15T08:48:06.574096Z"
    },
    "papermill": {
     "duration": 0.021567,
     "end_time": "2023-05-15T08:48:06.577701",
     "exception": false,
     "start_time": "2023-05-15T08:48:06.556134",
     "status": "completed"
    },
    "tags": []
   },
   "outputs": [],
   "source": [
    "#TODO - Clean answers from stopwords?\n",
    "def tokenIsAnswer(token, sentenceId, answers):\n",
    "    for i in range(len(answers)):\n",
    "        if (answers[i]['sentenceId'] == sentenceId):\n",
    "            if (answers[i]['text'] == token):\n",
    "                return True\n",
    "    return False"
   ]
  },
  {
   "cell_type": "code",
   "execution_count": 13,
   "id": "e192f968",
   "metadata": {
    "execution": {
     "iopub.execute_input": "2023-05-15T08:48:06.601723Z",
     "iopub.status.busy": "2023-05-15T08:48:06.601304Z",
     "iopub.status.idle": "2023-05-15T08:48:06.608865Z",
     "shell.execute_reply": "2023-05-15T08:48:06.607557Z"
    },
    "papermill": {
     "duration": 0.022302,
     "end_time": "2023-05-15T08:48:06.611159",
     "exception": false,
     "start_time": "2023-05-15T08:48:06.588857",
     "status": "completed"
    },
    "tags": []
   },
   "outputs": [
    {
     "data": {
      "text/plain": [
       "False"
      ]
     },
     "execution_count": 13,
     "metadata": {},
     "output_type": "execute_result"
    }
   ],
   "source": [
    "tokenIsAnswer('the Main Building', 4, currAnswers)"
   ]
  },
  {
   "cell_type": "code",
   "execution_count": 14,
   "id": "77515069",
   "metadata": {
    "execution": {
     "iopub.execute_input": "2023-05-15T08:48:06.635700Z",
     "iopub.status.busy": "2023-05-15T08:48:06.635255Z",
     "iopub.status.idle": "2023-05-15T08:48:06.641268Z",
     "shell.execute_reply": "2023-05-15T08:48:06.640030Z"
    },
    "papermill": {
     "duration": 0.021256,
     "end_time": "2023-05-15T08:48:06.643933",
     "exception": false,
     "start_time": "2023-05-15T08:48:06.622677",
     "status": "completed"
    },
    "tags": []
   },
   "outputs": [],
   "source": [
    "#Save named entities start points\n",
    "\n",
    "def getNEStartIndexs(doc):\n",
    "    neStarts = {}\n",
    "    for ne in doc.ents:\n",
    "        neStarts[ne.start] = ne\n",
    "        \n",
    "    return neStarts "
   ]
  },
  {
   "cell_type": "code",
   "execution_count": 15,
   "id": "42ceb30e",
   "metadata": {
    "execution": {
     "iopub.execute_input": "2023-05-15T08:48:06.668802Z",
     "iopub.status.busy": "2023-05-15T08:48:06.668408Z",
     "iopub.status.idle": "2023-05-15T08:48:06.675480Z",
     "shell.execute_reply": "2023-05-15T08:48:06.674089Z"
    },
    "papermill": {
     "duration": 0.022056,
     "end_time": "2023-05-15T08:48:06.677828",
     "exception": false,
     "start_time": "2023-05-15T08:48:06.655772",
     "status": "completed"
    },
    "tags": []
   },
   "outputs": [
    {
     "name": "stdout",
     "output_type": "stream",
     "text": [
      "NORP\n"
     ]
    }
   ],
   "source": [
    "currNeStarts = getNEStartIndexs(currDoc)\n",
    "\n",
    "if 6 in currNeStarts:\n",
    "    print(currNeStarts[6].label_)"
   ]
  },
  {
   "cell_type": "code",
   "execution_count": 16,
   "id": "948192e0",
   "metadata": {
    "execution": {
     "iopub.execute_input": "2023-05-15T08:48:06.702874Z",
     "iopub.status.busy": "2023-05-15T08:48:06.702446Z",
     "iopub.status.idle": "2023-05-15T08:48:06.709388Z",
     "shell.execute_reply": "2023-05-15T08:48:06.707891Z"
    },
    "papermill": {
     "duration": 0.022288,
     "end_time": "2023-05-15T08:48:06.711637",
     "exception": false,
     "start_time": "2023-05-15T08:48:06.689349",
     "status": "completed"
    },
    "tags": []
   },
   "outputs": [],
   "source": [
    "def getSentenceStartIndexes(doc):\n",
    "    senStarts = []\n",
    "    \n",
    "    for sentence in doc.sents:\n",
    "        senStarts.append(sentence[0].i)\n",
    "    \n",
    "    return senStarts\n",
    "    \n",
    "def getSentenceForWordPosition(wordPos, senStarts):\n",
    "    for i in range(1, len(senStarts)):\n",
    "        if (wordPos < senStarts[i]):\n",
    "            return i - 1"
   ]
  },
  {
   "cell_type": "code",
   "execution_count": 17,
   "id": "c916631d",
   "metadata": {
    "execution": {
     "iopub.execute_input": "2023-05-15T08:48:06.736211Z",
     "iopub.status.busy": "2023-05-15T08:48:06.735807Z",
     "iopub.status.idle": "2023-05-15T08:48:06.744145Z",
     "shell.execute_reply": "2023-05-15T08:48:06.742463Z"
    },
    "papermill": {
     "duration": 0.023555,
     "end_time": "2023-05-15T08:48:06.746487",
     "exception": false,
     "start_time": "2023-05-15T08:48:06.722932",
     "status": "completed"
    },
    "tags": []
   },
   "outputs": [
    {
     "data": {
      "text/plain": [
       "[0, 9, 25, 55, 68, 84, 108]"
      ]
     },
     "execution_count": 17,
     "metadata": {},
     "output_type": "execute_result"
    }
   ],
   "source": [
    "senStarts = getSentenceStartIndexes(currDoc)\n",
    "senStarts"
   ]
  },
  {
   "cell_type": "code",
   "execution_count": 18,
   "id": "dfb3d282",
   "metadata": {
    "execution": {
     "iopub.execute_input": "2023-05-15T08:48:06.771763Z",
     "iopub.status.busy": "2023-05-15T08:48:06.770730Z",
     "iopub.status.idle": "2023-05-15T08:48:06.775392Z",
     "shell.execute_reply": "2023-05-15T08:48:06.774481Z"
    },
    "papermill": {
     "duration": 0.019891,
     "end_time": "2023-05-15T08:48:06.777860",
     "exception": false,
     "start_time": "2023-05-15T08:48:06.757969",
     "status": "completed"
    },
    "tags": []
   },
   "outputs": [],
   "source": [
    "getSentenceForWordPosition(108, senStarts)"
   ]
  },
  {
   "cell_type": "code",
   "execution_count": 19,
   "id": "38f3a87d",
   "metadata": {
    "execution": {
     "iopub.execute_input": "2023-05-15T08:48:06.803404Z",
     "iopub.status.busy": "2023-05-15T08:48:06.802945Z",
     "iopub.status.idle": "2023-05-15T08:48:06.823601Z",
     "shell.execute_reply": "2023-05-15T08:48:06.822464Z"
    },
    "papermill": {
     "duration": 0.036524,
     "end_time": "2023-05-15T08:48:06.825971",
     "exception": false,
     "start_time": "2023-05-15T08:48:06.789447",
     "status": "completed"
    },
    "tags": []
   },
   "outputs": [
    {
     "data": {
      "text/html": [
       "<div>\n",
       "<style scoped>\n",
       "    .dataframe tbody tr th:only-of-type {\n",
       "        vertical-align: middle;\n",
       "    }\n",
       "\n",
       "    .dataframe tbody tr th {\n",
       "        vertical-align: top;\n",
       "    }\n",
       "\n",
       "    .dataframe thead th {\n",
       "        text-align: right;\n",
       "    }\n",
       "</style>\n",
       "<table border=\"1\" class=\"dataframe\">\n",
       "  <thead>\n",
       "    <tr style=\"text-align: right;\">\n",
       "      <th></th>\n",
       "      <th>text</th>\n",
       "      <th>isAnswer</th>\n",
       "      <th>titleId</th>\n",
       "      <th>paragrapghId</th>\n",
       "      <th>sentenceId</th>\n",
       "      <th>wordCount</th>\n",
       "      <th>NER</th>\n",
       "      <th>POS</th>\n",
       "      <th>TAG</th>\n",
       "      <th>DEP</th>\n",
       "      <th>shape</th>\n",
       "    </tr>\n",
       "  </thead>\n",
       "  <tbody>\n",
       "  </tbody>\n",
       "</table>\n",
       "</div>"
      ],
      "text/plain": [
       "Empty DataFrame\n",
       "Columns: [text, isAnswer, titleId, paragrapghId, sentenceId, wordCount, NER, POS, TAG, DEP, shape]\n",
       "Index: []"
      ]
     },
     "execution_count": 19,
     "metadata": {},
     "output_type": "execute_result"
    }
   ],
   "source": [
    "#Creating the dataframe\n",
    "wordColums = ['text', 'isAnswer', 'titleId', 'paragrapghId', 'sentenceId','wordCount', 'NER', 'POS', 'TAG', 'DEP','shape']\n",
    "wordDf = pd.DataFrame(columns=wordColums)\n",
    "\n",
    "#Save to pickle\n",
    "\n",
    "#load df\n",
    "\n",
    "#Add new words to array\n",
    "newWord = ['koala', True, 0, 0, 4, 1, None, None, None, None, 'xxxxx']\n",
    "newWords = []\n",
    "#newWords.append(newWord)\n",
    "\n",
    "#Make array to dataframe\n",
    "newWordsDf = pd.DataFrame(newWords, columns=wordColums)\n",
    "newWordsDf\n",
    "\n",
    "#Merge dataframes"
   ]
  },
  {
   "cell_type": "code",
   "execution_count": 20,
   "id": "e3478835",
   "metadata": {
    "execution": {
     "iopub.execute_input": "2023-05-15T08:48:06.852215Z",
     "iopub.status.busy": "2023-05-15T08:48:06.851347Z",
     "iopub.status.idle": "2023-05-15T08:48:06.863854Z",
     "shell.execute_reply": "2023-05-15T08:48:06.862801Z"
    },
    "papermill": {
     "duration": 0.028363,
     "end_time": "2023-05-15T08:48:06.866402",
     "exception": false,
     "start_time": "2023-05-15T08:48:06.838039",
     "status": "completed"
    },
    "tags": []
   },
   "outputs": [],
   "source": [
    "def addWordsForParagrapgh(newWords, titleId, paragraphId):\n",
    "    text = df['data'][titleId]['paragraphs'][paragraphId]['context']\n",
    "    qas = df['data'][titleId]['paragraphs'][paragraphId]['qas']\n",
    "\n",
    "    doc = nlp(text)\n",
    "\n",
    "    answers = extractAnswers(qas, doc)\n",
    "    neStarts = getNEStartIndexs(doc)\n",
    "    senStarts = getSentenceStartIndexes(doc)\n",
    "    \n",
    "    #index of word in spacy doc text\n",
    "    i = 0\n",
    "    \n",
    "    while (i < len(doc)):\n",
    "        #If the token is a start of a Named Entity, add it and push to index to end of the NE\n",
    "        if (i in neStarts):\n",
    "            word = neStarts[i]\n",
    "            #add word\n",
    "            currentSentence = getSentenceForWordPosition(word.start, senStarts)\n",
    "            wordLen = word.end - word.start\n",
    "            shape = ''\n",
    "            for wordIndex in range(word.start, word.end):\n",
    "                shape += (' ' + doc[wordIndex].shape_)\n",
    "\n",
    "            newWords.append([word.text,\n",
    "                            tokenIsAnswer(word.text, currentSentence, answers),\n",
    "                            titleId,\n",
    "                            paragraphId,\n",
    "                            currentSentence,\n",
    "                            wordLen,\n",
    "                            word.label_,\n",
    "                            None,\n",
    "                            None,\n",
    "                            None,\n",
    "                            shape])\n",
    "            i = neStarts[i].end - 1\n",
    "        #If not a NE, add the word if it's not a stopword or a non-alpha (not regular letters)\n",
    "        else:\n",
    "            if (doc[i].is_stop == False and doc[i].is_alpha == True):\n",
    "                word = doc[i]\n",
    "\n",
    "                currentSentence = getSentenceForWordPosition(i, senStarts)\n",
    "                wordLen = 1\n",
    "\n",
    "                newWords.append([word.text,\n",
    "                                tokenIsAnswer(word.text, currentSentence, answers),\n",
    "                                titleId,\n",
    "                                paragraphId,\n",
    "                                currentSentence,\n",
    "                                wordLen,\n",
    "                                None,\n",
    "                                word.pos_,\n",
    "                                word.tag_,\n",
    "                                word.dep_,\n",
    "                                word.shape_])\n",
    "        i += 1\n"
   ]
  },
  {
   "cell_type": "code",
   "execution_count": 21,
   "id": "32c4dff5",
   "metadata": {
    "execution": {
     "iopub.execute_input": "2023-05-15T08:48:06.892669Z",
     "iopub.status.busy": "2023-05-15T08:48:06.892173Z",
     "iopub.status.idle": "2023-05-15T08:48:06.896960Z",
     "shell.execute_reply": "2023-05-15T08:48:06.895735Z"
    },
    "papermill": {
     "duration": 0.020942,
     "end_time": "2023-05-15T08:48:06.899408",
     "exception": false,
     "start_time": "2023-05-15T08:48:06.878466",
     "status": "completed"
    },
    "tags": []
   },
   "outputs": [],
   "source": [
    "#TODO For each token add, for each NE add... "
   ]
  },
  {
   "cell_type": "code",
   "execution_count": 22,
   "id": "fa8c7662",
   "metadata": {
    "execution": {
     "iopub.execute_input": "2023-05-15T08:48:06.925009Z",
     "iopub.status.busy": "2023-05-15T08:48:06.924534Z",
     "iopub.status.idle": "2023-05-15T08:48:06.930768Z",
     "shell.execute_reply": "2023-05-15T08:48:06.929869Z"
    },
    "papermill": {
     "duration": 0.021752,
     "end_time": "2023-05-15T08:48:06.932799",
     "exception": false,
     "start_time": "2023-05-15T08:48:06.911047",
     "status": "completed"
    },
    "tags": []
   },
   "outputs": [
    {
     "data": {
      "text/plain": [
       "[]"
      ]
     },
     "execution_count": 22,
     "metadata": {},
     "output_type": "execute_result"
    }
   ],
   "source": [
    "newWords"
   ]
  },
  {
   "cell_type": "code",
   "execution_count": 23,
   "id": "279c8b15",
   "metadata": {
    "execution": {
     "iopub.execute_input": "2023-05-15T08:48:06.958638Z",
     "iopub.status.busy": "2023-05-15T08:48:06.957860Z",
     "iopub.status.idle": "2023-05-15T08:48:06.988909Z",
     "shell.execute_reply": "2023-05-15T08:48:06.987631Z"
    },
    "papermill": {
     "duration": 0.047018,
     "end_time": "2023-05-15T08:48:06.991878",
     "exception": false,
     "start_time": "2023-05-15T08:48:06.944860",
     "status": "completed"
    },
    "tags": []
   },
   "outputs": [],
   "source": [
    "addWordsForParagrapgh(newWords, 0, 0)"
   ]
  },
  {
   "cell_type": "code",
   "execution_count": 24,
   "id": "c7fbb4e7",
   "metadata": {
    "execution": {
     "iopub.execute_input": "2023-05-15T08:48:07.017239Z",
     "iopub.status.busy": "2023-05-15T08:48:07.016773Z",
     "iopub.status.idle": "2023-05-15T08:48:07.025072Z",
     "shell.execute_reply": "2023-05-15T08:48:07.023793Z"
    },
    "papermill": {
     "duration": 0.025268,
     "end_time": "2023-05-15T08:48:07.029218",
     "exception": false,
     "start_time": "2023-05-15T08:48:07.003950",
     "status": "completed"
    },
    "tags": []
   },
   "outputs": [
    {
     "data": {
      "text/plain": [
       "['Architecturally', False, 0, 0, 0, 1, None, 'ADV', 'RB', 'advmod', 'Xxxxx']"
      ]
     },
     "execution_count": 24,
     "metadata": {},
     "output_type": "execute_result"
    }
   ],
   "source": [
    "newWords[0]"
   ]
  },
  {
   "cell_type": "code",
   "execution_count": 25,
   "id": "fdb8d0ca",
   "metadata": {
    "execution": {
     "iopub.execute_input": "2023-05-15T08:48:07.056654Z",
     "iopub.status.busy": "2023-05-15T08:48:07.056237Z",
     "iopub.status.idle": "2023-05-15T08:48:07.075273Z",
     "shell.execute_reply": "2023-05-15T08:48:07.074014Z"
    },
    "papermill": {
     "duration": 0.035909,
     "end_time": "2023-05-15T08:48:07.078279",
     "exception": false,
     "start_time": "2023-05-15T08:48:07.042370",
     "status": "completed"
    },
    "tags": []
   },
   "outputs": [
    {
     "data": {
      "text/html": [
       "<div>\n",
       "<style scoped>\n",
       "    .dataframe tbody tr th:only-of-type {\n",
       "        vertical-align: middle;\n",
       "    }\n",
       "\n",
       "    .dataframe tbody tr th {\n",
       "        vertical-align: top;\n",
       "    }\n",
       "\n",
       "    .dataframe thead th {\n",
       "        text-align: right;\n",
       "    }\n",
       "</style>\n",
       "<table border=\"1\" class=\"dataframe\">\n",
       "  <thead>\n",
       "    <tr style=\"text-align: right;\">\n",
       "      <th></th>\n",
       "      <th>text</th>\n",
       "      <th>isAnswer</th>\n",
       "      <th>titleId</th>\n",
       "      <th>paragrapghId</th>\n",
       "      <th>sentenceId</th>\n",
       "      <th>wordCount</th>\n",
       "      <th>NER</th>\n",
       "      <th>POS</th>\n",
       "      <th>TAG</th>\n",
       "      <th>DEP</th>\n",
       "      <th>shape</th>\n",
       "    </tr>\n",
       "  </thead>\n",
       "  <tbody>\n",
       "    <tr>\n",
       "      <th>0</th>\n",
       "      <td>Architecturally</td>\n",
       "      <td>False</td>\n",
       "      <td>0</td>\n",
       "      <td>0</td>\n",
       "      <td>0.0</td>\n",
       "      <td>1</td>\n",
       "      <td>None</td>\n",
       "      <td>ADV</td>\n",
       "      <td>RB</td>\n",
       "      <td>advmod</td>\n",
       "      <td>Xxxxx</td>\n",
       "    </tr>\n",
       "    <tr>\n",
       "      <th>1</th>\n",
       "      <td>school</td>\n",
       "      <td>False</td>\n",
       "      <td>0</td>\n",
       "      <td>0</td>\n",
       "      <td>0.0</td>\n",
       "      <td>1</td>\n",
       "      <td>None</td>\n",
       "      <td>NOUN</td>\n",
       "      <td>NN</td>\n",
       "      <td>nsubj</td>\n",
       "      <td>xxxx</td>\n",
       "    </tr>\n",
       "    <tr>\n",
       "      <th>2</th>\n",
       "      <td>Catholic</td>\n",
       "      <td>False</td>\n",
       "      <td>0</td>\n",
       "      <td>0</td>\n",
       "      <td>0.0</td>\n",
       "      <td>1</td>\n",
       "      <td>NORP</td>\n",
       "      <td>None</td>\n",
       "      <td>None</td>\n",
       "      <td>None</td>\n",
       "      <td>Xxxxx</td>\n",
       "    </tr>\n",
       "    <tr>\n",
       "      <th>3</th>\n",
       "      <td>character</td>\n",
       "      <td>False</td>\n",
       "      <td>0</td>\n",
       "      <td>0</td>\n",
       "      <td>0.0</td>\n",
       "      <td>1</td>\n",
       "      <td>None</td>\n",
       "      <td>NOUN</td>\n",
       "      <td>NN</td>\n",
       "      <td>dobj</td>\n",
       "      <td>xxxx</td>\n",
       "    </tr>\n",
       "    <tr>\n",
       "      <th>4</th>\n",
       "      <td>Atop</td>\n",
       "      <td>False</td>\n",
       "      <td>0</td>\n",
       "      <td>0</td>\n",
       "      <td>1.0</td>\n",
       "      <td>1</td>\n",
       "      <td>None</td>\n",
       "      <td>ADP</td>\n",
       "      <td>IN</td>\n",
       "      <td>prep</td>\n",
       "      <td>Xxxx</td>\n",
       "    </tr>\n",
       "  </tbody>\n",
       "</table>\n",
       "</div>"
      ],
      "text/plain": [
       "              text  isAnswer  titleId  paragrapghId  sentenceId  wordCount  \\\n",
       "0  Architecturally     False        0             0         0.0          1   \n",
       "1           school     False        0             0         0.0          1   \n",
       "2         Catholic     False        0             0         0.0          1   \n",
       "3        character     False        0             0         0.0          1   \n",
       "4             Atop     False        0             0         1.0          1   \n",
       "\n",
       "    NER   POS   TAG     DEP   shape  \n",
       "0  None   ADV    RB  advmod   Xxxxx  \n",
       "1  None  NOUN    NN   nsubj    xxxx  \n",
       "2  NORP  None  None    None   Xxxxx  \n",
       "3  None  NOUN    NN    dobj    xxxx  \n",
       "4  None   ADP    IN    prep    Xxxx  "
      ]
     },
     "execution_count": 25,
     "metadata": {},
     "output_type": "execute_result"
    }
   ],
   "source": [
    "newWordsDf = pd.DataFrame(newWords, columns=wordColums)\n",
    "newWordsDf.head()"
   ]
  },
  {
   "cell_type": "code",
   "execution_count": 26,
   "id": "1c345bbb",
   "metadata": {
    "execution": {
     "iopub.execute_input": "2023-05-15T08:48:07.105659Z",
     "iopub.status.busy": "2023-05-15T08:48:07.105216Z",
     "iopub.status.idle": "2023-05-15T08:48:07.127588Z",
     "shell.execute_reply": "2023-05-15T08:48:07.126530Z"
    },
    "papermill": {
     "duration": 0.039331,
     "end_time": "2023-05-15T08:48:07.129893",
     "exception": false,
     "start_time": "2023-05-15T08:48:07.090562",
     "status": "completed"
    },
    "tags": []
   },
   "outputs": [
    {
     "data": {
      "text/html": [
       "<div>\n",
       "<style scoped>\n",
       "    .dataframe tbody tr th:only-of-type {\n",
       "        vertical-align: middle;\n",
       "    }\n",
       "\n",
       "    .dataframe tbody tr th {\n",
       "        vertical-align: top;\n",
       "    }\n",
       "\n",
       "    .dataframe thead th {\n",
       "        text-align: right;\n",
       "    }\n",
       "</style>\n",
       "<table border=\"1\" class=\"dataframe\">\n",
       "  <thead>\n",
       "    <tr style=\"text-align: right;\">\n",
       "      <th></th>\n",
       "      <th>text</th>\n",
       "      <th>isAnswer</th>\n",
       "      <th>titleId</th>\n",
       "      <th>paragrapghId</th>\n",
       "      <th>sentenceId</th>\n",
       "      <th>wordCount</th>\n",
       "      <th>NER</th>\n",
       "      <th>POS</th>\n",
       "      <th>TAG</th>\n",
       "      <th>DEP</th>\n",
       "      <th>shape</th>\n",
       "    </tr>\n",
       "  </thead>\n",
       "  <tbody>\n",
       "    <tr>\n",
       "      <th>22</th>\n",
       "      <td>the Main Building</td>\n",
       "      <td>True</td>\n",
       "      <td>0</td>\n",
       "      <td>0</td>\n",
       "      <td>3.0</td>\n",
       "      <td>3</td>\n",
       "      <td>FAC</td>\n",
       "      <td>None</td>\n",
       "      <td>None</td>\n",
       "      <td>None</td>\n",
       "      <td>xxx Xxxx Xxxxx</td>\n",
       "    </tr>\n",
       "    <tr>\n",
       "      <th>39</th>\n",
       "      <td>Saint Bernadette Soubirous</td>\n",
       "      <td>True</td>\n",
       "      <td>0</td>\n",
       "      <td>0</td>\n",
       "      <td>5.0</td>\n",
       "      <td>3</td>\n",
       "      <td>PERSON</td>\n",
       "      <td>None</td>\n",
       "      <td>None</td>\n",
       "      <td>None</td>\n",
       "      <td>Xxxxx Xxxxx Xxxxx</td>\n",
       "    </tr>\n",
       "  </tbody>\n",
       "</table>\n",
       "</div>"
      ],
      "text/plain": [
       "                          text  isAnswer  titleId  paragrapghId  sentenceId  \\\n",
       "22           the Main Building      True        0             0         3.0   \n",
       "39  Saint Bernadette Soubirous      True        0             0         5.0   \n",
       "\n",
       "    wordCount     NER   POS   TAG   DEP               shape  \n",
       "22          3     FAC  None  None  None      xxx Xxxx Xxxxx  \n",
       "39          3  PERSON  None  None  None   Xxxxx Xxxxx Xxxxx  "
      ]
     },
     "execution_count": 26,
     "metadata": {},
     "output_type": "execute_result"
    }
   ],
   "source": [
    "newWordsDf[newWordsDf['isAnswer'] == True].head()"
   ]
  },
  {
   "cell_type": "markdown",
   "id": "6ac3a6e5",
   "metadata": {
    "papermill": {
     "duration": 0.012202,
     "end_time": "2023-05-15T08:48:07.154681",
     "exception": false,
     "start_time": "2023-05-15T08:48:07.142479",
     "status": "completed"
    },
    "tags": []
   },
   "source": [
    "Generating a words for 2 titles"
   ]
  },
  {
   "cell_type": "code",
   "execution_count": 27,
   "id": "85ff74a1",
   "metadata": {
    "execution": {
     "iopub.execute_input": "2023-05-15T08:48:07.183123Z",
     "iopub.status.busy": "2023-05-15T08:48:07.182097Z",
     "iopub.status.idle": "2023-05-15T08:48:11.466000Z",
     "shell.execute_reply": "2023-05-15T08:48:11.464723Z"
    },
    "papermill": {
     "duration": 4.300916,
     "end_time": "2023-05-15T08:48:11.468782",
     "exception": false,
     "start_time": "2023-05-15T08:48:07.167866",
     "status": "completed"
    },
    "tags": []
   },
   "outputs": [
    {
     "name": "stderr",
     "output_type": "stream",
     "text": [
      "100%|██████████| 2/2 [00:04<00:00,  2.14s/it]\n"
     ]
    }
   ],
   "source": [
    "words = []\n",
    "\n",
    "#titlesCount = len(df['data'])\n",
    "titlesCount = 2\n",
    "\n",
    "for titleId in tqdm(range(titlesCount)):\n",
    "    paragraphsCount = len(df['data'][titleId]['paragraphs'])\n",
    "        \n",
    "    for paragraphId in range(paragraphsCount):\n",
    "        addWordsForParagrapgh(words, titleId, paragraphId)\n",
    "        "
   ]
  },
  {
   "cell_type": "code",
   "execution_count": 28,
   "id": "f15cc4dd",
   "metadata": {
    "execution": {
     "iopub.execute_input": "2023-05-15T08:48:11.495971Z",
     "iopub.status.busy": "2023-05-15T08:48:11.495543Z",
     "iopub.status.idle": "2023-05-15T08:48:11.525555Z",
     "shell.execute_reply": "2023-05-15T08:48:11.524644Z"
    },
    "papermill": {
     "duration": 0.046378,
     "end_time": "2023-05-15T08:48:11.527939",
     "exception": false,
     "start_time": "2023-05-15T08:48:11.481561",
     "status": "completed"
    },
    "tags": []
   },
   "outputs": [
    {
     "data": {
      "text/html": [
       "<div>\n",
       "<style scoped>\n",
       "    .dataframe tbody tr th:only-of-type {\n",
       "        vertical-align: middle;\n",
       "    }\n",
       "\n",
       "    .dataframe tbody tr th {\n",
       "        vertical-align: top;\n",
       "    }\n",
       "\n",
       "    .dataframe thead th {\n",
       "        text-align: right;\n",
       "    }\n",
       "</style>\n",
       "<table border=\"1\" class=\"dataframe\">\n",
       "  <thead>\n",
       "    <tr style=\"text-align: right;\">\n",
       "      <th></th>\n",
       "      <th>text</th>\n",
       "      <th>isAnswer</th>\n",
       "      <th>titleId</th>\n",
       "      <th>paragrapghId</th>\n",
       "      <th>sentenceId</th>\n",
       "      <th>wordCount</th>\n",
       "      <th>NER</th>\n",
       "      <th>POS</th>\n",
       "      <th>TAG</th>\n",
       "      <th>DEP</th>\n",
       "      <th>shape</th>\n",
       "    </tr>\n",
       "  </thead>\n",
       "  <tbody>\n",
       "    <tr>\n",
       "      <th>0</th>\n",
       "      <td>Architecturally</td>\n",
       "      <td>False</td>\n",
       "      <td>0</td>\n",
       "      <td>0</td>\n",
       "      <td>0.0</td>\n",
       "      <td>1</td>\n",
       "      <td>None</td>\n",
       "      <td>ADV</td>\n",
       "      <td>RB</td>\n",
       "      <td>advmod</td>\n",
       "      <td>Xxxxx</td>\n",
       "    </tr>\n",
       "    <tr>\n",
       "      <th>1</th>\n",
       "      <td>school</td>\n",
       "      <td>False</td>\n",
       "      <td>0</td>\n",
       "      <td>0</td>\n",
       "      <td>0.0</td>\n",
       "      <td>1</td>\n",
       "      <td>None</td>\n",
       "      <td>NOUN</td>\n",
       "      <td>NN</td>\n",
       "      <td>nsubj</td>\n",
       "      <td>xxxx</td>\n",
       "    </tr>\n",
       "    <tr>\n",
       "      <th>2</th>\n",
       "      <td>Catholic</td>\n",
       "      <td>False</td>\n",
       "      <td>0</td>\n",
       "      <td>0</td>\n",
       "      <td>0.0</td>\n",
       "      <td>1</td>\n",
       "      <td>NORP</td>\n",
       "      <td>None</td>\n",
       "      <td>None</td>\n",
       "      <td>None</td>\n",
       "      <td>Xxxxx</td>\n",
       "    </tr>\n",
       "    <tr>\n",
       "      <th>3</th>\n",
       "      <td>character</td>\n",
       "      <td>False</td>\n",
       "      <td>0</td>\n",
       "      <td>0</td>\n",
       "      <td>0.0</td>\n",
       "      <td>1</td>\n",
       "      <td>None</td>\n",
       "      <td>NOUN</td>\n",
       "      <td>NN</td>\n",
       "      <td>dobj</td>\n",
       "      <td>xxxx</td>\n",
       "    </tr>\n",
       "    <tr>\n",
       "      <th>4</th>\n",
       "      <td>Atop</td>\n",
       "      <td>False</td>\n",
       "      <td>0</td>\n",
       "      <td>0</td>\n",
       "      <td>1.0</td>\n",
       "      <td>1</td>\n",
       "      <td>None</td>\n",
       "      <td>ADP</td>\n",
       "      <td>IN</td>\n",
       "      <td>prep</td>\n",
       "      <td>Xxxx</td>\n",
       "    </tr>\n",
       "  </tbody>\n",
       "</table>\n",
       "</div>"
      ],
      "text/plain": [
       "              text  isAnswer  titleId  paragrapghId  sentenceId  wordCount  \\\n",
       "0  Architecturally     False        0             0         0.0          1   \n",
       "1           school     False        0             0         0.0          1   \n",
       "2         Catholic     False        0             0         0.0          1   \n",
       "3        character     False        0             0         0.0          1   \n",
       "4             Atop     False        0             0         1.0          1   \n",
       "\n",
       "    NER   POS   TAG     DEP   shape  \n",
       "0  None   ADV    RB  advmod   Xxxxx  \n",
       "1  None  NOUN    NN   nsubj    xxxx  \n",
       "2  NORP  None  None    None   Xxxxx  \n",
       "3  None  NOUN    NN    dobj    xxxx  \n",
       "4  None   ADP    IN    prep    Xxxx  "
      ]
     },
     "execution_count": 28,
     "metadata": {},
     "output_type": "execute_result"
    }
   ],
   "source": [
    "wordsDf = pd.DataFrame(words, columns=wordColums)\n",
    "wordsDf.head()"
   ]
  },
  {
   "cell_type": "code",
   "execution_count": 29,
   "id": "16e5bc9b",
   "metadata": {
    "execution": {
     "iopub.execute_input": "2023-05-15T08:48:11.556378Z",
     "iopub.status.busy": "2023-05-15T08:48:11.555903Z",
     "iopub.status.idle": "2023-05-15T08:48:11.562536Z",
     "shell.execute_reply": "2023-05-15T08:48:11.561328Z"
    },
    "papermill": {
     "duration": 0.023987,
     "end_time": "2023-05-15T08:48:11.564838",
     "exception": false,
     "start_time": "2023-05-15T08:48:11.540851",
     "status": "completed"
    },
    "tags": []
   },
   "outputs": [
    {
     "name": "stdout",
     "output_type": "stream",
     "text": [
      "Total words for 2 articles: 8666\n"
     ]
    }
   ],
   "source": [
    "print(\"Total words for 2 articles:\", len(wordsDf))"
   ]
  },
  {
   "cell_type": "markdown",
   "id": "d24682b6",
   "metadata": {
    "papermill": {
     "duration": 0.012616,
     "end_time": "2023-05-15T08:48:11.590451",
     "exception": false,
     "start_time": "2023-05-15T08:48:11.577835",
     "status": "completed"
    },
    "tags": []
   },
   "source": [
    "## Generating the entire word dataset"
   ]
  },
  {
   "cell_type": "code",
   "execution_count": 30,
   "id": "f69c1111",
   "metadata": {
    "execution": {
     "iopub.execute_input": "2023-05-15T08:48:11.618649Z",
     "iopub.status.busy": "2023-05-15T08:48:11.618189Z",
     "iopub.status.idle": "2023-05-15T08:48:14.930939Z",
     "shell.execute_reply": "2023-05-15T08:48:14.929562Z"
    },
    "papermill": {
     "duration": 3.329652,
     "end_time": "2023-05-15T08:48:14.933572",
     "exception": false,
     "start_time": "2023-05-15T08:48:11.603920",
     "status": "completed"
    },
    "tags": []
   },
   "outputs": [
    {
     "name": "stderr",
     "output_type": "stream",
     "text": [
      "100%|██████████| 2/2 [00:03<00:00,  1.64s/it]"
     ]
    },
    {
     "name": "stdout",
     "output_type": "stream",
     "text": [
      "Result was not pickled. You had to wait.\n"
     ]
    },
    {
     "name": "stderr",
     "output_type": "stream",
     "text": [
      "\n"
     ]
    }
   ],
   "source": [
    "wordPickleName = './wordsDf_1.pkl'\n",
    "\n",
    "#If the dataframe is already generated, load it.\n",
    "if (pickleExists(wordPickleName)):\n",
    "    print(\"Pickle found. Saved some time.\")\n",
    "    wordsDf = loadPickle(wordPickleName)\n",
    "else:\n",
    "    #Extracting words\n",
    "    words = []\n",
    "\n",
    "#     titlesCount = len(df['data'])   \n",
    "    titlesCount = 2   \n",
    "\n",
    "    for titleId in tqdm(range(titlesCount)):\n",
    "        paragraphsCount = len(df['data'][titleId]['paragraphs'])\n",
    "\n",
    "#         printProgress(titleId, titlesCount - 1)\n",
    "\n",
    "        for paragraphId in range(paragraphsCount):\n",
    "            addWordsForParagrapgh(words, titleId, paragraphId)\n",
    "    \n",
    "    #Create the dataframe\n",
    "    wordColums = ['text', 'isAnswer', 'titleId', 'paragrapghId', 'sentenceId','wordCount', 'NER', 'POS', 'TAG', 'DEP','shape']\n",
    "    wordsDf = pd.DataFrame(words, columns=wordColums)\n",
    "    \n",
    "    #Pickle the result\n",
    "    dumpPickle(wordPickleName, wordsDf)\n",
    "    print(\"Result was not pickled. You had to wait.\")"
   ]
  },
  {
   "cell_type": "markdown",
   "id": "51889894",
   "metadata": {
    "papermill": {
     "duration": 0.012901,
     "end_time": "2023-05-15T08:48:14.959676",
     "exception": false,
     "start_time": "2023-05-15T08:48:14.946775",
     "status": "completed"
    },
    "tags": []
   },
   "source": [
    "Total extracted words:"
   ]
  },
  {
   "cell_type": "code",
   "execution_count": 31,
   "id": "4bee5e0e",
   "metadata": {
    "execution": {
     "iopub.execute_input": "2023-05-15T08:48:14.988112Z",
     "iopub.status.busy": "2023-05-15T08:48:14.987342Z",
     "iopub.status.idle": "2023-05-15T08:48:14.993175Z",
     "shell.execute_reply": "2023-05-15T08:48:14.992084Z"
    },
    "papermill": {
     "duration": 0.02266,
     "end_time": "2023-05-15T08:48:14.995430",
     "exception": false,
     "start_time": "2023-05-15T08:48:14.972770",
     "status": "completed"
    },
    "tags": []
   },
   "outputs": [
    {
     "name": "stdout",
     "output_type": "stream",
     "text": [
      "Total words for all articles: 8666\n"
     ]
    }
   ],
   "source": [
    "print(\"Total words for all articles:\", len(wordsDf))"
   ]
  },
  {
   "cell_type": "markdown",
   "id": "1d905415",
   "metadata": {
    "papermill": {
     "duration": 0.012829,
     "end_time": "2023-05-15T08:48:15.021481",
     "exception": false,
     "start_time": "2023-05-15T08:48:15.008652",
     "status": "completed"
    },
    "tags": []
   },
   "source": [
    "Check what percentage of the extracted words are answers in the dataframe. They should be pretty low"
   ]
  },
  {
   "cell_type": "code",
   "execution_count": 32,
   "id": "0641add9",
   "metadata": {
    "execution": {
     "iopub.execute_input": "2023-05-15T08:48:15.049742Z",
     "iopub.status.busy": "2023-05-15T08:48:15.049305Z",
     "iopub.status.idle": "2023-05-15T08:48:15.058043Z",
     "shell.execute_reply": "2023-05-15T08:48:15.056412Z"
    },
    "papermill": {
     "duration": 0.025574,
     "end_time": "2023-05-15T08:48:15.060295",
     "exception": false,
     "start_time": "2023-05-15T08:48:15.034721",
     "status": "completed"
    },
    "tags": []
   },
   "outputs": [
    {
     "name": "stdout",
     "output_type": "stream",
     "text": [
      "376 total answers 4.34% of all words are answers.\n"
     ]
    }
   ],
   "source": [
    "totalAnswers = len(wordsDf[wordsDf['isAnswer'] == True])\n",
    "print(totalAnswers, 'total answers', '{:.2f}%'.format((totalAnswers / len(wordsDf)) * 100), 'of all words are answers.')"
   ]
  },
  {
   "cell_type": "code",
   "execution_count": null,
   "id": "a5076c3c",
   "metadata": {
    "papermill": {
     "duration": 0.012959,
     "end_time": "2023-05-15T08:48:15.086840",
     "exception": false,
     "start_time": "2023-05-15T08:48:15.073881",
     "status": "completed"
    },
    "tags": []
   },
   "outputs": [],
   "source": []
  },
  {
   "cell_type": "code",
   "execution_count": 33,
   "id": "a0c11517",
   "metadata": {
    "execution": {
     "iopub.execute_input": "2023-05-15T08:48:15.115586Z",
     "iopub.status.busy": "2023-05-15T08:48:15.115099Z",
     "iopub.status.idle": "2023-05-15T08:48:15.135825Z",
     "shell.execute_reply": "2023-05-15T08:48:15.134646Z"
    },
    "papermill": {
     "duration": 0.038255,
     "end_time": "2023-05-15T08:48:15.138368",
     "exception": false,
     "start_time": "2023-05-15T08:48:15.100113",
     "status": "completed"
    },
    "tags": []
   },
   "outputs": [
    {
     "data": {
      "text/html": [
       "<div>\n",
       "<style scoped>\n",
       "    .dataframe tbody tr th:only-of-type {\n",
       "        vertical-align: middle;\n",
       "    }\n",
       "\n",
       "    .dataframe tbody tr th {\n",
       "        vertical-align: top;\n",
       "    }\n",
       "\n",
       "    .dataframe thead th {\n",
       "        text-align: right;\n",
       "    }\n",
       "</style>\n",
       "<table border=\"1\" class=\"dataframe\">\n",
       "  <thead>\n",
       "    <tr style=\"text-align: right;\">\n",
       "      <th></th>\n",
       "      <th>text</th>\n",
       "      <th>isAnswer</th>\n",
       "      <th>titleId</th>\n",
       "      <th>paragrapghId</th>\n",
       "      <th>sentenceId</th>\n",
       "      <th>wordCount</th>\n",
       "      <th>NER</th>\n",
       "      <th>POS</th>\n",
       "      <th>TAG</th>\n",
       "      <th>DEP</th>\n",
       "      <th>shape</th>\n",
       "    </tr>\n",
       "  </thead>\n",
       "  <tbody>\n",
       "    <tr>\n",
       "      <th>0</th>\n",
       "      <td>Architecturally</td>\n",
       "      <td>False</td>\n",
       "      <td>0</td>\n",
       "      <td>0</td>\n",
       "      <td>0.0</td>\n",
       "      <td>1</td>\n",
       "      <td>None</td>\n",
       "      <td>ADV</td>\n",
       "      <td>RB</td>\n",
       "      <td>advmod</td>\n",
       "      <td>Xxxxx</td>\n",
       "    </tr>\n",
       "    <tr>\n",
       "      <th>1</th>\n",
       "      <td>school</td>\n",
       "      <td>False</td>\n",
       "      <td>0</td>\n",
       "      <td>0</td>\n",
       "      <td>0.0</td>\n",
       "      <td>1</td>\n",
       "      <td>None</td>\n",
       "      <td>NOUN</td>\n",
       "      <td>NN</td>\n",
       "      <td>nsubj</td>\n",
       "      <td>xxxx</td>\n",
       "    </tr>\n",
       "    <tr>\n",
       "      <th>2</th>\n",
       "      <td>Catholic</td>\n",
       "      <td>False</td>\n",
       "      <td>0</td>\n",
       "      <td>0</td>\n",
       "      <td>0.0</td>\n",
       "      <td>1</td>\n",
       "      <td>NORP</td>\n",
       "      <td>None</td>\n",
       "      <td>None</td>\n",
       "      <td>None</td>\n",
       "      <td>Xxxxx</td>\n",
       "    </tr>\n",
       "    <tr>\n",
       "      <th>3</th>\n",
       "      <td>character</td>\n",
       "      <td>False</td>\n",
       "      <td>0</td>\n",
       "      <td>0</td>\n",
       "      <td>0.0</td>\n",
       "      <td>1</td>\n",
       "      <td>None</td>\n",
       "      <td>NOUN</td>\n",
       "      <td>NN</td>\n",
       "      <td>dobj</td>\n",
       "      <td>xxxx</td>\n",
       "    </tr>\n",
       "    <tr>\n",
       "      <th>4</th>\n",
       "      <td>Atop</td>\n",
       "      <td>False</td>\n",
       "      <td>0</td>\n",
       "      <td>0</td>\n",
       "      <td>1.0</td>\n",
       "      <td>1</td>\n",
       "      <td>None</td>\n",
       "      <td>ADP</td>\n",
       "      <td>IN</td>\n",
       "      <td>prep</td>\n",
       "      <td>Xxxx</td>\n",
       "    </tr>\n",
       "    <tr>\n",
       "      <th>5</th>\n",
       "      <td>Main</td>\n",
       "      <td>False</td>\n",
       "      <td>0</td>\n",
       "      <td>0</td>\n",
       "      <td>1.0</td>\n",
       "      <td>1</td>\n",
       "      <td>None</td>\n",
       "      <td>PROPN</td>\n",
       "      <td>NNP</td>\n",
       "      <td>compound</td>\n",
       "      <td>Xxxx</td>\n",
       "    </tr>\n",
       "    <tr>\n",
       "      <th>6</th>\n",
       "      <td>Building</td>\n",
       "      <td>False</td>\n",
       "      <td>0</td>\n",
       "      <td>0</td>\n",
       "      <td>1.0</td>\n",
       "      <td>1</td>\n",
       "      <td>None</td>\n",
       "      <td>PROPN</td>\n",
       "      <td>NNP</td>\n",
       "      <td>poss</td>\n",
       "      <td>Xxxxx</td>\n",
       "    </tr>\n",
       "    <tr>\n",
       "      <th>7</th>\n",
       "      <td>gold</td>\n",
       "      <td>False</td>\n",
       "      <td>0</td>\n",
       "      <td>0</td>\n",
       "      <td>1.0</td>\n",
       "      <td>1</td>\n",
       "      <td>None</td>\n",
       "      <td>NOUN</td>\n",
       "      <td>NN</td>\n",
       "      <td>compound</td>\n",
       "      <td>xxxx</td>\n",
       "    </tr>\n",
       "    <tr>\n",
       "      <th>8</th>\n",
       "      <td>dome</td>\n",
       "      <td>False</td>\n",
       "      <td>0</td>\n",
       "      <td>0</td>\n",
       "      <td>1.0</td>\n",
       "      <td>1</td>\n",
       "      <td>None</td>\n",
       "      <td>NOUN</td>\n",
       "      <td>NN</td>\n",
       "      <td>pobj</td>\n",
       "      <td>xxxx</td>\n",
       "    </tr>\n",
       "    <tr>\n",
       "      <th>9</th>\n",
       "      <td>golden</td>\n",
       "      <td>False</td>\n",
       "      <td>0</td>\n",
       "      <td>0</td>\n",
       "      <td>1.0</td>\n",
       "      <td>1</td>\n",
       "      <td>None</td>\n",
       "      <td>ADJ</td>\n",
       "      <td>JJ</td>\n",
       "      <td>amod</td>\n",
       "      <td>xxxx</td>\n",
       "    </tr>\n",
       "    <tr>\n",
       "      <th>10</th>\n",
       "      <td>statue</td>\n",
       "      <td>False</td>\n",
       "      <td>0</td>\n",
       "      <td>0</td>\n",
       "      <td>1.0</td>\n",
       "      <td>1</td>\n",
       "      <td>None</td>\n",
       "      <td>NOUN</td>\n",
       "      <td>NN</td>\n",
       "      <td>attr</td>\n",
       "      <td>xxxx</td>\n",
       "    </tr>\n",
       "    <tr>\n",
       "      <th>11</th>\n",
       "      <td>the Virgin Mary</td>\n",
       "      <td>False</td>\n",
       "      <td>0</td>\n",
       "      <td>0</td>\n",
       "      <td>1.0</td>\n",
       "      <td>3</td>\n",
       "      <td>ORG</td>\n",
       "      <td>None</td>\n",
       "      <td>None</td>\n",
       "      <td>None</td>\n",
       "      <td>xxx Xxxxx Xxxx</td>\n",
       "    </tr>\n",
       "    <tr>\n",
       "      <th>12</th>\n",
       "      <td>Immediately</td>\n",
       "      <td>False</td>\n",
       "      <td>0</td>\n",
       "      <td>0</td>\n",
       "      <td>2.0</td>\n",
       "      <td>1</td>\n",
       "      <td>None</td>\n",
       "      <td>ADV</td>\n",
       "      <td>RB</td>\n",
       "      <td>advmod</td>\n",
       "      <td>Xxxxx</td>\n",
       "    </tr>\n",
       "    <tr>\n",
       "      <th>13</th>\n",
       "      <td>the Main Building</td>\n",
       "      <td>False</td>\n",
       "      <td>0</td>\n",
       "      <td>0</td>\n",
       "      <td>2.0</td>\n",
       "      <td>3</td>\n",
       "      <td>FAC</td>\n",
       "      <td>None</td>\n",
       "      <td>None</td>\n",
       "      <td>None</td>\n",
       "      <td>xxx Xxxx Xxxxx</td>\n",
       "    </tr>\n",
       "    <tr>\n",
       "      <th>14</th>\n",
       "      <td>facing</td>\n",
       "      <td>False</td>\n",
       "      <td>0</td>\n",
       "      <td>0</td>\n",
       "      <td>2.0</td>\n",
       "      <td>1</td>\n",
       "      <td>None</td>\n",
       "      <td>VERB</td>\n",
       "      <td>VBG</td>\n",
       "      <td>conj</td>\n",
       "      <td>xxxx</td>\n",
       "    </tr>\n",
       "  </tbody>\n",
       "</table>\n",
       "</div>"
      ],
      "text/plain": [
       "                 text  isAnswer  titleId  paragrapghId  sentenceId  wordCount  \\\n",
       "0     Architecturally     False        0             0         0.0          1   \n",
       "1              school     False        0             0         0.0          1   \n",
       "2            Catholic     False        0             0         0.0          1   \n",
       "3           character     False        0             0         0.0          1   \n",
       "4                Atop     False        0             0         1.0          1   \n",
       "5                Main     False        0             0         1.0          1   \n",
       "6            Building     False        0             0         1.0          1   \n",
       "7                gold     False        0             0         1.0          1   \n",
       "8                dome     False        0             0         1.0          1   \n",
       "9              golden     False        0             0         1.0          1   \n",
       "10             statue     False        0             0         1.0          1   \n",
       "11    the Virgin Mary     False        0             0         1.0          3   \n",
       "12        Immediately     False        0             0         2.0          1   \n",
       "13  the Main Building     False        0             0         2.0          3   \n",
       "14             facing     False        0             0         2.0          1   \n",
       "\n",
       "     NER    POS   TAG       DEP            shape  \n",
       "0   None    ADV    RB    advmod            Xxxxx  \n",
       "1   None   NOUN    NN     nsubj             xxxx  \n",
       "2   NORP   None  None      None            Xxxxx  \n",
       "3   None   NOUN    NN      dobj             xxxx  \n",
       "4   None    ADP    IN      prep             Xxxx  \n",
       "5   None  PROPN   NNP  compound             Xxxx  \n",
       "6   None  PROPN   NNP      poss            Xxxxx  \n",
       "7   None   NOUN    NN  compound             xxxx  \n",
       "8   None   NOUN    NN      pobj             xxxx  \n",
       "9   None    ADJ    JJ      amod             xxxx  \n",
       "10  None   NOUN    NN      attr             xxxx  \n",
       "11   ORG   None  None      None   xxx Xxxxx Xxxx  \n",
       "12  None    ADV    RB    advmod            Xxxxx  \n",
       "13   FAC   None  None      None   xxx Xxxx Xxxxx  \n",
       "14  None   VERB   VBG      conj             xxxx  "
      ]
     },
     "execution_count": 33,
     "metadata": {},
     "output_type": "execute_result"
    }
   ],
   "source": [
    "wordsDf.head(15)"
   ]
  },
  {
   "cell_type": "code",
   "execution_count": 34,
   "id": "7002f581",
   "metadata": {
    "execution": {
     "iopub.execute_input": "2023-05-15T08:48:15.168114Z",
     "iopub.status.busy": "2023-05-15T08:48:15.167694Z",
     "iopub.status.idle": "2023-05-15T08:48:15.180805Z",
     "shell.execute_reply": "2023-05-15T08:48:15.179758Z"
    },
    "papermill": {
     "duration": 0.030777,
     "end_time": "2023-05-15T08:48:15.183353",
     "exception": false,
     "start_time": "2023-05-15T08:48:15.152576",
     "status": "completed"
    },
    "tags": []
   },
   "outputs": [],
   "source": [
    "predictorPickleName = './questionContainmentDf_1.pkl'\n",
    "dumpPickle(predictorPickleName, wordsDf)"
   ]
  }
 ],
 "metadata": {
  "kernelspec": {
   "display_name": "Python 3",
   "language": "python",
   "name": "python3"
  },
  "language_info": {
   "codemirror_mode": {
    "name": "ipython",
    "version": 3
   },
   "file_extension": ".py",
   "mimetype": "text/x-python",
   "name": "python",
   "nbconvert_exporter": "python",
   "pygments_lexer": "ipython3",
   "version": "3.7.12"
  },
  "papermill": {
   "default_parameters": {},
   "duration": 41.752275,
   "end_time": "2023-05-15T08:48:18.404934",
   "environment_variables": {},
   "exception": null,
   "input_path": "__notebook__.ipynb",
   "output_path": "__notebook__.ipynb",
   "parameters": {},
   "start_time": "2023-05-15T08:47:36.652659",
   "version": "2.3.4"
  }
 },
 "nbformat": 4,
 "nbformat_minor": 5
}
