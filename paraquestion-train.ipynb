{
 "cells": [
  {
   "cell_type": "markdown",
   "id": "973912d1",
   "metadata": {
    "papermill": {
     "duration": 0.021196,
     "end_time": "2023-05-15T08:55:37.699900",
     "exception": false,
     "start_time": "2023-05-15T08:55:37.678704",
     "status": "completed"
    },
    "tags": []
   },
   "source": [
    "# Training\n",
    "Using the Naive Bayes classificator to predict if a word is an answer or not."
   ]
  },
  {
   "cell_type": "code",
   "execution_count": null,
   "id": "e614e044",
   "metadata": {
    "papermill": {
     "duration": 0.021308,
     "end_time": "2023-05-15T08:55:37.742080",
     "exception": false,
     "start_time": "2023-05-15T08:55:37.720772",
     "status": "completed"
    },
    "tags": []
   },
   "outputs": [],
   "source": []
  },
  {
   "cell_type": "code",
   "execution_count": null,
   "id": "87ff4e0d",
   "metadata": {
    "papermill": {
     "duration": 0.01936,
     "end_time": "2023-05-15T08:55:37.781190",
     "exception": false,
     "start_time": "2023-05-15T08:55:37.761830",
     "status": "completed"
    },
    "tags": []
   },
   "outputs": [],
   "source": []
  },
  {
   "cell_type": "code",
   "execution_count": 1,
   "id": "b06e4dc9",
   "metadata": {
    "execution": {
     "iopub.execute_input": "2023-05-15T08:55:37.823661Z",
     "iopub.status.busy": "2023-05-15T08:55:37.822845Z",
     "iopub.status.idle": "2023-05-15T08:55:37.835126Z",
     "shell.execute_reply": "2023-05-15T08:55:37.834149Z"
    },
    "papermill": {
     "duration": 0.036911,
     "end_time": "2023-05-15T08:55:37.837873",
     "exception": false,
     "start_time": "2023-05-15T08:55:37.800962",
     "status": "completed"
    },
    "tags": []
   },
   "outputs": [],
   "source": [
    "#Common imports \n",
    "import pandas as pd\n",
    "import numpy as np"
   ]
  },
  {
   "cell_type": "markdown",
   "id": "a3b7c586",
   "metadata": {
    "papermill": {
     "duration": 0.019192,
     "end_time": "2023-05-15T08:55:37.876523",
     "exception": false,
     "start_time": "2023-05-15T08:55:37.857331",
     "status": "completed"
    },
    "tags": []
   },
   "source": [
    "### Pickling"
   ]
  },
  {
   "cell_type": "code",
   "execution_count": 2,
   "id": "76dca39d",
   "metadata": {
    "execution": {
     "iopub.execute_input": "2023-05-15T08:55:37.918260Z",
     "iopub.status.busy": "2023-05-15T08:55:37.917314Z",
     "iopub.status.idle": "2023-05-15T08:55:37.926155Z",
     "shell.execute_reply": "2023-05-15T08:55:37.924981Z"
    },
    "papermill": {
     "duration": 0.032825,
     "end_time": "2023-05-15T08:55:37.928800",
     "exception": false,
     "start_time": "2023-05-15T08:55:37.895975",
     "status": "completed"
    },
    "tags": []
   },
   "outputs": [],
   "source": [
    "import _pickle as cPickle\n",
    "from pathlib import Path\n",
    "\n",
    "def dumpPickle(fileName, content):\n",
    "    pickleFile = open(fileName, 'wb')\n",
    "    cPickle.dump(content, pickleFile, -1)\n",
    "    pickleFile.close()\n",
    "\n",
    "def loadPickle(fileName):    \n",
    "    file = open(fileName, 'rb')\n",
    "    content = cPickle.load(file)\n",
    "    file.close()\n",
    "    \n",
    "    return content\n",
    "    \n",
    "def pickleExists(fileName):\n",
    "    file = Path(fileName)\n",
    "    \n",
    "    if file.is_file():\n",
    "        return True\n",
    "    \n",
    "    return False"
   ]
  },
  {
   "cell_type": "markdown",
   "id": "5de83f2b",
   "metadata": {
    "papermill": {
     "duration": 0.019108,
     "end_time": "2023-05-15T08:55:37.967281",
     "exception": false,
     "start_time": "2023-05-15T08:55:37.948173",
     "status": "completed"
    },
    "tags": []
   },
   "source": [
    "## Reading the dataframe\n",
    "Generated from the *Feature Engineering* notebook"
   ]
  },
  {
   "cell_type": "code",
   "execution_count": 3,
   "id": "7c491ca7",
   "metadata": {
    "execution": {
     "iopub.execute_input": "2023-05-15T08:55:38.008556Z",
     "iopub.status.busy": "2023-05-15T08:55:38.007989Z",
     "iopub.status.idle": "2023-05-15T08:55:38.040615Z",
     "shell.execute_reply": "2023-05-15T08:55:38.038793Z"
    },
    "papermill": {
     "duration": 0.056926,
     "end_time": "2023-05-15T08:55:38.043608",
     "exception": false,
     "start_time": "2023-05-15T08:55:37.986682",
     "status": "completed"
    },
    "tags": []
   },
   "outputs": [],
   "source": [
    "wordPickleName = '../input/paraquestion/questionContainmentDf_1.pkl'\n",
    "df = loadPickle(wordPickleName)"
   ]
  },
  {
   "cell_type": "code",
   "execution_count": 4,
   "id": "38a20342",
   "metadata": {
    "execution": {
     "iopub.execute_input": "2023-05-15T08:55:38.085317Z",
     "iopub.status.busy": "2023-05-15T08:55:38.084786Z",
     "iopub.status.idle": "2023-05-15T08:55:38.128410Z",
     "shell.execute_reply": "2023-05-15T08:55:38.127095Z"
    },
    "papermill": {
     "duration": 0.068356,
     "end_time": "2023-05-15T08:55:38.131802",
     "exception": false,
     "start_time": "2023-05-15T08:55:38.063446",
     "status": "completed"
    },
    "tags": []
   },
   "outputs": [
    {
     "data": {
      "text/html": [
       "<div>\n",
       "<style scoped>\n",
       "    .dataframe tbody tr th:only-of-type {\n",
       "        vertical-align: middle;\n",
       "    }\n",
       "\n",
       "    .dataframe tbody tr th {\n",
       "        vertical-align: top;\n",
       "    }\n",
       "\n",
       "    .dataframe thead th {\n",
       "        text-align: right;\n",
       "    }\n",
       "</style>\n",
       "<table border=\"1\" class=\"dataframe\">\n",
       "  <thead>\n",
       "    <tr style=\"text-align: right;\">\n",
       "      <th></th>\n",
       "      <th>text</th>\n",
       "      <th>isAnswer</th>\n",
       "      <th>titleId</th>\n",
       "      <th>paragrapghId</th>\n",
       "      <th>sentenceId</th>\n",
       "      <th>wordCount</th>\n",
       "      <th>NER</th>\n",
       "      <th>POS</th>\n",
       "      <th>TAG</th>\n",
       "      <th>DEP</th>\n",
       "      <th>shape</th>\n",
       "    </tr>\n",
       "  </thead>\n",
       "  <tbody>\n",
       "    <tr>\n",
       "      <th>0</th>\n",
       "      <td>Architecturally</td>\n",
       "      <td>False</td>\n",
       "      <td>0</td>\n",
       "      <td>0</td>\n",
       "      <td>0.0</td>\n",
       "      <td>1</td>\n",
       "      <td>None</td>\n",
       "      <td>ADV</td>\n",
       "      <td>RB</td>\n",
       "      <td>advmod</td>\n",
       "      <td>Xxxxx</td>\n",
       "    </tr>\n",
       "    <tr>\n",
       "      <th>1</th>\n",
       "      <td>school</td>\n",
       "      <td>False</td>\n",
       "      <td>0</td>\n",
       "      <td>0</td>\n",
       "      <td>0.0</td>\n",
       "      <td>1</td>\n",
       "      <td>None</td>\n",
       "      <td>NOUN</td>\n",
       "      <td>NN</td>\n",
       "      <td>nsubj</td>\n",
       "      <td>xxxx</td>\n",
       "    </tr>\n",
       "    <tr>\n",
       "      <th>2</th>\n",
       "      <td>Catholic</td>\n",
       "      <td>False</td>\n",
       "      <td>0</td>\n",
       "      <td>0</td>\n",
       "      <td>0.0</td>\n",
       "      <td>1</td>\n",
       "      <td>NORP</td>\n",
       "      <td>None</td>\n",
       "      <td>None</td>\n",
       "      <td>None</td>\n",
       "      <td>Xxxxx</td>\n",
       "    </tr>\n",
       "    <tr>\n",
       "      <th>3</th>\n",
       "      <td>character</td>\n",
       "      <td>False</td>\n",
       "      <td>0</td>\n",
       "      <td>0</td>\n",
       "      <td>0.0</td>\n",
       "      <td>1</td>\n",
       "      <td>None</td>\n",
       "      <td>NOUN</td>\n",
       "      <td>NN</td>\n",
       "      <td>dobj</td>\n",
       "      <td>xxxx</td>\n",
       "    </tr>\n",
       "    <tr>\n",
       "      <th>4</th>\n",
       "      <td>Atop</td>\n",
       "      <td>False</td>\n",
       "      <td>0</td>\n",
       "      <td>0</td>\n",
       "      <td>1.0</td>\n",
       "      <td>1</td>\n",
       "      <td>None</td>\n",
       "      <td>ADP</td>\n",
       "      <td>IN</td>\n",
       "      <td>prep</td>\n",
       "      <td>Xxxx</td>\n",
       "    </tr>\n",
       "    <tr>\n",
       "      <th>5</th>\n",
       "      <td>Main</td>\n",
       "      <td>False</td>\n",
       "      <td>0</td>\n",
       "      <td>0</td>\n",
       "      <td>1.0</td>\n",
       "      <td>1</td>\n",
       "      <td>None</td>\n",
       "      <td>PROPN</td>\n",
       "      <td>NNP</td>\n",
       "      <td>compound</td>\n",
       "      <td>Xxxx</td>\n",
       "    </tr>\n",
       "    <tr>\n",
       "      <th>6</th>\n",
       "      <td>Building</td>\n",
       "      <td>False</td>\n",
       "      <td>0</td>\n",
       "      <td>0</td>\n",
       "      <td>1.0</td>\n",
       "      <td>1</td>\n",
       "      <td>None</td>\n",
       "      <td>PROPN</td>\n",
       "      <td>NNP</td>\n",
       "      <td>poss</td>\n",
       "      <td>Xxxxx</td>\n",
       "    </tr>\n",
       "    <tr>\n",
       "      <th>7</th>\n",
       "      <td>gold</td>\n",
       "      <td>False</td>\n",
       "      <td>0</td>\n",
       "      <td>0</td>\n",
       "      <td>1.0</td>\n",
       "      <td>1</td>\n",
       "      <td>None</td>\n",
       "      <td>NOUN</td>\n",
       "      <td>NN</td>\n",
       "      <td>compound</td>\n",
       "      <td>xxxx</td>\n",
       "    </tr>\n",
       "    <tr>\n",
       "      <th>8</th>\n",
       "      <td>dome</td>\n",
       "      <td>False</td>\n",
       "      <td>0</td>\n",
       "      <td>0</td>\n",
       "      <td>1.0</td>\n",
       "      <td>1</td>\n",
       "      <td>None</td>\n",
       "      <td>NOUN</td>\n",
       "      <td>NN</td>\n",
       "      <td>pobj</td>\n",
       "      <td>xxxx</td>\n",
       "    </tr>\n",
       "    <tr>\n",
       "      <th>9</th>\n",
       "      <td>golden</td>\n",
       "      <td>False</td>\n",
       "      <td>0</td>\n",
       "      <td>0</td>\n",
       "      <td>1.0</td>\n",
       "      <td>1</td>\n",
       "      <td>None</td>\n",
       "      <td>ADJ</td>\n",
       "      <td>JJ</td>\n",
       "      <td>amod</td>\n",
       "      <td>xxxx</td>\n",
       "    </tr>\n",
       "    <tr>\n",
       "      <th>10</th>\n",
       "      <td>statue</td>\n",
       "      <td>False</td>\n",
       "      <td>0</td>\n",
       "      <td>0</td>\n",
       "      <td>1.0</td>\n",
       "      <td>1</td>\n",
       "      <td>None</td>\n",
       "      <td>NOUN</td>\n",
       "      <td>NN</td>\n",
       "      <td>attr</td>\n",
       "      <td>xxxx</td>\n",
       "    </tr>\n",
       "    <tr>\n",
       "      <th>11</th>\n",
       "      <td>the Virgin Mary</td>\n",
       "      <td>False</td>\n",
       "      <td>0</td>\n",
       "      <td>0</td>\n",
       "      <td>1.0</td>\n",
       "      <td>3</td>\n",
       "      <td>ORG</td>\n",
       "      <td>None</td>\n",
       "      <td>None</td>\n",
       "      <td>None</td>\n",
       "      <td>xxx Xxxxx Xxxx</td>\n",
       "    </tr>\n",
       "    <tr>\n",
       "      <th>12</th>\n",
       "      <td>Immediately</td>\n",
       "      <td>False</td>\n",
       "      <td>0</td>\n",
       "      <td>0</td>\n",
       "      <td>2.0</td>\n",
       "      <td>1</td>\n",
       "      <td>None</td>\n",
       "      <td>ADV</td>\n",
       "      <td>RB</td>\n",
       "      <td>advmod</td>\n",
       "      <td>Xxxxx</td>\n",
       "    </tr>\n",
       "    <tr>\n",
       "      <th>13</th>\n",
       "      <td>the Main Building</td>\n",
       "      <td>False</td>\n",
       "      <td>0</td>\n",
       "      <td>0</td>\n",
       "      <td>2.0</td>\n",
       "      <td>3</td>\n",
       "      <td>FAC</td>\n",
       "      <td>None</td>\n",
       "      <td>None</td>\n",
       "      <td>None</td>\n",
       "      <td>xxx Xxxx Xxxxx</td>\n",
       "    </tr>\n",
       "    <tr>\n",
       "      <th>14</th>\n",
       "      <td>facing</td>\n",
       "      <td>False</td>\n",
       "      <td>0</td>\n",
       "      <td>0</td>\n",
       "      <td>2.0</td>\n",
       "      <td>1</td>\n",
       "      <td>None</td>\n",
       "      <td>VERB</td>\n",
       "      <td>VBG</td>\n",
       "      <td>conj</td>\n",
       "      <td>xxxx</td>\n",
       "    </tr>\n",
       "  </tbody>\n",
       "</table>\n",
       "</div>"
      ],
      "text/plain": [
       "                 text  isAnswer  titleId  paragrapghId  sentenceId  wordCount  \\\n",
       "0     Architecturally     False        0             0         0.0          1   \n",
       "1              school     False        0             0         0.0          1   \n",
       "2            Catholic     False        0             0         0.0          1   \n",
       "3           character     False        0             0         0.0          1   \n",
       "4                Atop     False        0             0         1.0          1   \n",
       "5                Main     False        0             0         1.0          1   \n",
       "6            Building     False        0             0         1.0          1   \n",
       "7                gold     False        0             0         1.0          1   \n",
       "8                dome     False        0             0         1.0          1   \n",
       "9              golden     False        0             0         1.0          1   \n",
       "10             statue     False        0             0         1.0          1   \n",
       "11    the Virgin Mary     False        0             0         1.0          3   \n",
       "12        Immediately     False        0             0         2.0          1   \n",
       "13  the Main Building     False        0             0         2.0          3   \n",
       "14             facing     False        0             0         2.0          1   \n",
       "\n",
       "     NER    POS   TAG       DEP            shape  \n",
       "0   None    ADV    RB    advmod            Xxxxx  \n",
       "1   None   NOUN    NN     nsubj             xxxx  \n",
       "2   NORP   None  None      None            Xxxxx  \n",
       "3   None   NOUN    NN      dobj             xxxx  \n",
       "4   None    ADP    IN      prep             Xxxx  \n",
       "5   None  PROPN   NNP  compound             Xxxx  \n",
       "6   None  PROPN   NNP      poss            Xxxxx  \n",
       "7   None   NOUN    NN  compound             xxxx  \n",
       "8   None   NOUN    NN      pobj             xxxx  \n",
       "9   None    ADJ    JJ      amod             xxxx  \n",
       "10  None   NOUN    NN      attr             xxxx  \n",
       "11   ORG   None  None      None   xxx Xxxxx Xxxx  \n",
       "12  None    ADV    RB    advmod            Xxxxx  \n",
       "13   FAC   None  None      None   xxx Xxxx Xxxxx  \n",
       "14  None   VERB   VBG      conj             xxxx  "
      ]
     },
     "execution_count": 4,
     "metadata": {},
     "output_type": "execute_result"
    }
   ],
   "source": [
    "df.head(15)"
   ]
  },
  {
   "cell_type": "markdown",
   "id": "c0328cca",
   "metadata": {
    "papermill": {
     "duration": 0.020086,
     "end_time": "2023-05-15T08:55:38.172064",
     "exception": false,
     "start_time": "2023-05-15T08:55:38.151978",
     "status": "completed"
    },
    "tags": []
   },
   "source": [
    "## One-hot encoding\n",
    "We need to encode the categorical data - NER, POS, TAG, DEP, shape"
   ]
  },
  {
   "cell_type": "code",
   "execution_count": 5,
   "id": "4db50135",
   "metadata": {
    "execution": {
     "iopub.execute_input": "2023-05-15T08:55:38.215207Z",
     "iopub.status.busy": "2023-05-15T08:55:38.214791Z",
     "iopub.status.idle": "2023-05-15T08:55:38.233334Z",
     "shell.execute_reply": "2023-05-15T08:55:38.231860Z"
    },
    "papermill": {
     "duration": 0.043403,
     "end_time": "2023-05-15T08:55:38.236301",
     "exception": false,
     "start_time": "2023-05-15T08:55:38.192898",
     "status": "completed"
    },
    "tags": []
   },
   "outputs": [
    {
     "data": {
      "text/plain": [
       "ORG            631\n",
       "DATE           451\n",
       "PERSON         373\n",
       "CARDINAL       246\n",
       "GPE            183\n",
       "WORK_OF_ART    128\n",
       "ORDINAL        114\n",
       "NORP           110\n",
       "FAC             91\n",
       "MONEY           48\n",
       "EVENT           30\n",
       "LOC             22\n",
       "PERCENT         17\n",
       "PRODUCT         17\n",
       "TIME             6\n",
       "QUANTITY         4\n",
       "LANGUAGE         4\n",
       "LAW              2\n",
       "Name: NER, dtype: int64"
      ]
     },
     "execution_count": 5,
     "metadata": {},
     "output_type": "execute_result"
    }
   ],
   "source": [
    "df['NER'].value_counts()"
   ]
  },
  {
   "cell_type": "code",
   "execution_count": 6,
   "id": "e905c85d",
   "metadata": {
    "execution": {
     "iopub.execute_input": "2023-05-15T08:55:38.283473Z",
     "iopub.status.busy": "2023-05-15T08:55:38.283063Z",
     "iopub.status.idle": "2023-05-15T08:55:38.288899Z",
     "shell.execute_reply": "2023-05-15T08:55:38.287534Z"
    },
    "papermill": {
     "duration": 0.032694,
     "end_time": "2023-05-15T08:55:38.292043",
     "exception": false,
     "start_time": "2023-05-15T08:55:38.259349",
     "status": "completed"
    },
    "tags": []
   },
   "outputs": [],
   "source": [
    "columnsToEncode = ['NER', 'POS', \"TAG\", 'DEP']"
   ]
  },
  {
   "cell_type": "code",
   "execution_count": 7,
   "id": "66a3d97b",
   "metadata": {
    "execution": {
     "iopub.execute_input": "2023-05-15T08:55:38.337853Z",
     "iopub.status.busy": "2023-05-15T08:55:38.337138Z",
     "iopub.status.idle": "2023-05-15T08:55:38.386557Z",
     "shell.execute_reply": "2023-05-15T08:55:38.385020Z"
    },
    "papermill": {
     "duration": 0.076463,
     "end_time": "2023-05-15T08:55:38.389612",
     "exception": false,
     "start_time": "2023-05-15T08:55:38.313149",
     "status": "completed"
    },
    "tags": []
   },
   "outputs": [
    {
     "name": "stdout",
     "output_type": "stream",
     "text": [
      "NER\n",
      "POS\n",
      "TAG\n",
      "DEP\n"
     ]
    }
   ],
   "source": [
    "for column in columnsToEncode:\n",
    "    print(column)\n",
    "    one_hot = pd.get_dummies(df[column])\n",
    "    one_hot = one_hot.add_prefix(column + '_')\n",
    "\n",
    "    df = df.drop(column, axis = 1)\n",
    "    df = df.join(one_hot)"
   ]
  },
  {
   "cell_type": "code",
   "execution_count": 8,
   "id": "c5cf709c",
   "metadata": {
    "execution": {
     "iopub.execute_input": "2023-05-15T08:55:38.433898Z",
     "iopub.status.busy": "2023-05-15T08:55:38.433462Z",
     "iopub.status.idle": "2023-05-15T08:55:38.464605Z",
     "shell.execute_reply": "2023-05-15T08:55:38.463405Z"
    },
    "papermill": {
     "duration": 0.056734,
     "end_time": "2023-05-15T08:55:38.467211",
     "exception": false,
     "start_time": "2023-05-15T08:55:38.410477",
     "status": "completed"
    },
    "tags": []
   },
   "outputs": [
    {
     "data": {
      "text/html": [
       "<div>\n",
       "<style scoped>\n",
       "    .dataframe tbody tr th:only-of-type {\n",
       "        vertical-align: middle;\n",
       "    }\n",
       "\n",
       "    .dataframe tbody tr th {\n",
       "        vertical-align: top;\n",
       "    }\n",
       "\n",
       "    .dataframe thead th {\n",
       "        text-align: right;\n",
       "    }\n",
       "</style>\n",
       "<table border=\"1\" class=\"dataframe\">\n",
       "  <thead>\n",
       "    <tr style=\"text-align: right;\">\n",
       "      <th></th>\n",
       "      <th>text</th>\n",
       "      <th>isAnswer</th>\n",
       "      <th>titleId</th>\n",
       "      <th>paragrapghId</th>\n",
       "      <th>sentenceId</th>\n",
       "      <th>wordCount</th>\n",
       "      <th>shape</th>\n",
       "      <th>NER_CARDINAL</th>\n",
       "      <th>NER_DATE</th>\n",
       "      <th>NER_EVENT</th>\n",
       "      <th>...</th>\n",
       "      <th>DEP_nsubj</th>\n",
       "      <th>DEP_nsubjpass</th>\n",
       "      <th>DEP_nummod</th>\n",
       "      <th>DEP_oprd</th>\n",
       "      <th>DEP_pcomp</th>\n",
       "      <th>DEP_pobj</th>\n",
       "      <th>DEP_poss</th>\n",
       "      <th>DEP_prep</th>\n",
       "      <th>DEP_relcl</th>\n",
       "      <th>DEP_xcomp</th>\n",
       "    </tr>\n",
       "  </thead>\n",
       "  <tbody>\n",
       "    <tr>\n",
       "      <th>0</th>\n",
       "      <td>Architecturally</td>\n",
       "      <td>False</td>\n",
       "      <td>0</td>\n",
       "      <td>0</td>\n",
       "      <td>0.0</td>\n",
       "      <td>1</td>\n",
       "      <td>Xxxxx</td>\n",
       "      <td>0</td>\n",
       "      <td>0</td>\n",
       "      <td>0</td>\n",
       "      <td>...</td>\n",
       "      <td>0</td>\n",
       "      <td>0</td>\n",
       "      <td>0</td>\n",
       "      <td>0</td>\n",
       "      <td>0</td>\n",
       "      <td>0</td>\n",
       "      <td>0</td>\n",
       "      <td>0</td>\n",
       "      <td>0</td>\n",
       "      <td>0</td>\n",
       "    </tr>\n",
       "    <tr>\n",
       "      <th>1</th>\n",
       "      <td>school</td>\n",
       "      <td>False</td>\n",
       "      <td>0</td>\n",
       "      <td>0</td>\n",
       "      <td>0.0</td>\n",
       "      <td>1</td>\n",
       "      <td>xxxx</td>\n",
       "      <td>0</td>\n",
       "      <td>0</td>\n",
       "      <td>0</td>\n",
       "      <td>...</td>\n",
       "      <td>1</td>\n",
       "      <td>0</td>\n",
       "      <td>0</td>\n",
       "      <td>0</td>\n",
       "      <td>0</td>\n",
       "      <td>0</td>\n",
       "      <td>0</td>\n",
       "      <td>0</td>\n",
       "      <td>0</td>\n",
       "      <td>0</td>\n",
       "    </tr>\n",
       "    <tr>\n",
       "      <th>2</th>\n",
       "      <td>Catholic</td>\n",
       "      <td>False</td>\n",
       "      <td>0</td>\n",
       "      <td>0</td>\n",
       "      <td>0.0</td>\n",
       "      <td>1</td>\n",
       "      <td>Xxxxx</td>\n",
       "      <td>0</td>\n",
       "      <td>0</td>\n",
       "      <td>0</td>\n",
       "      <td>...</td>\n",
       "      <td>0</td>\n",
       "      <td>0</td>\n",
       "      <td>0</td>\n",
       "      <td>0</td>\n",
       "      <td>0</td>\n",
       "      <td>0</td>\n",
       "      <td>0</td>\n",
       "      <td>0</td>\n",
       "      <td>0</td>\n",
       "      <td>0</td>\n",
       "    </tr>\n",
       "    <tr>\n",
       "      <th>3</th>\n",
       "      <td>character</td>\n",
       "      <td>False</td>\n",
       "      <td>0</td>\n",
       "      <td>0</td>\n",
       "      <td>0.0</td>\n",
       "      <td>1</td>\n",
       "      <td>xxxx</td>\n",
       "      <td>0</td>\n",
       "      <td>0</td>\n",
       "      <td>0</td>\n",
       "      <td>...</td>\n",
       "      <td>0</td>\n",
       "      <td>0</td>\n",
       "      <td>0</td>\n",
       "      <td>0</td>\n",
       "      <td>0</td>\n",
       "      <td>0</td>\n",
       "      <td>0</td>\n",
       "      <td>0</td>\n",
       "      <td>0</td>\n",
       "      <td>0</td>\n",
       "    </tr>\n",
       "    <tr>\n",
       "      <th>4</th>\n",
       "      <td>Atop</td>\n",
       "      <td>False</td>\n",
       "      <td>0</td>\n",
       "      <td>0</td>\n",
       "      <td>1.0</td>\n",
       "      <td>1</td>\n",
       "      <td>Xxxx</td>\n",
       "      <td>0</td>\n",
       "      <td>0</td>\n",
       "      <td>0</td>\n",
       "      <td>...</td>\n",
       "      <td>0</td>\n",
       "      <td>0</td>\n",
       "      <td>0</td>\n",
       "      <td>0</td>\n",
       "      <td>0</td>\n",
       "      <td>0</td>\n",
       "      <td>0</td>\n",
       "      <td>1</td>\n",
       "      <td>0</td>\n",
       "      <td>0</td>\n",
       "    </tr>\n",
       "    <tr>\n",
       "      <th>5</th>\n",
       "      <td>Main</td>\n",
       "      <td>False</td>\n",
       "      <td>0</td>\n",
       "      <td>0</td>\n",
       "      <td>1.0</td>\n",
       "      <td>1</td>\n",
       "      <td>Xxxx</td>\n",
       "      <td>0</td>\n",
       "      <td>0</td>\n",
       "      <td>0</td>\n",
       "      <td>...</td>\n",
       "      <td>0</td>\n",
       "      <td>0</td>\n",
       "      <td>0</td>\n",
       "      <td>0</td>\n",
       "      <td>0</td>\n",
       "      <td>0</td>\n",
       "      <td>0</td>\n",
       "      <td>0</td>\n",
       "      <td>0</td>\n",
       "      <td>0</td>\n",
       "    </tr>\n",
       "    <tr>\n",
       "      <th>6</th>\n",
       "      <td>Building</td>\n",
       "      <td>False</td>\n",
       "      <td>0</td>\n",
       "      <td>0</td>\n",
       "      <td>1.0</td>\n",
       "      <td>1</td>\n",
       "      <td>Xxxxx</td>\n",
       "      <td>0</td>\n",
       "      <td>0</td>\n",
       "      <td>0</td>\n",
       "      <td>...</td>\n",
       "      <td>0</td>\n",
       "      <td>0</td>\n",
       "      <td>0</td>\n",
       "      <td>0</td>\n",
       "      <td>0</td>\n",
       "      <td>0</td>\n",
       "      <td>1</td>\n",
       "      <td>0</td>\n",
       "      <td>0</td>\n",
       "      <td>0</td>\n",
       "    </tr>\n",
       "    <tr>\n",
       "      <th>7</th>\n",
       "      <td>gold</td>\n",
       "      <td>False</td>\n",
       "      <td>0</td>\n",
       "      <td>0</td>\n",
       "      <td>1.0</td>\n",
       "      <td>1</td>\n",
       "      <td>xxxx</td>\n",
       "      <td>0</td>\n",
       "      <td>0</td>\n",
       "      <td>0</td>\n",
       "      <td>...</td>\n",
       "      <td>0</td>\n",
       "      <td>0</td>\n",
       "      <td>0</td>\n",
       "      <td>0</td>\n",
       "      <td>0</td>\n",
       "      <td>0</td>\n",
       "      <td>0</td>\n",
       "      <td>0</td>\n",
       "      <td>0</td>\n",
       "      <td>0</td>\n",
       "    </tr>\n",
       "    <tr>\n",
       "      <th>8</th>\n",
       "      <td>dome</td>\n",
       "      <td>False</td>\n",
       "      <td>0</td>\n",
       "      <td>0</td>\n",
       "      <td>1.0</td>\n",
       "      <td>1</td>\n",
       "      <td>xxxx</td>\n",
       "      <td>0</td>\n",
       "      <td>0</td>\n",
       "      <td>0</td>\n",
       "      <td>...</td>\n",
       "      <td>0</td>\n",
       "      <td>0</td>\n",
       "      <td>0</td>\n",
       "      <td>0</td>\n",
       "      <td>0</td>\n",
       "      <td>1</td>\n",
       "      <td>0</td>\n",
       "      <td>0</td>\n",
       "      <td>0</td>\n",
       "      <td>0</td>\n",
       "    </tr>\n",
       "    <tr>\n",
       "      <th>9</th>\n",
       "      <td>golden</td>\n",
       "      <td>False</td>\n",
       "      <td>0</td>\n",
       "      <td>0</td>\n",
       "      <td>1.0</td>\n",
       "      <td>1</td>\n",
       "      <td>xxxx</td>\n",
       "      <td>0</td>\n",
       "      <td>0</td>\n",
       "      <td>0</td>\n",
       "      <td>...</td>\n",
       "      <td>0</td>\n",
       "      <td>0</td>\n",
       "      <td>0</td>\n",
       "      <td>0</td>\n",
       "      <td>0</td>\n",
       "      <td>0</td>\n",
       "      <td>0</td>\n",
       "      <td>0</td>\n",
       "      <td>0</td>\n",
       "      <td>0</td>\n",
       "    </tr>\n",
       "    <tr>\n",
       "      <th>10</th>\n",
       "      <td>statue</td>\n",
       "      <td>False</td>\n",
       "      <td>0</td>\n",
       "      <td>0</td>\n",
       "      <td>1.0</td>\n",
       "      <td>1</td>\n",
       "      <td>xxxx</td>\n",
       "      <td>0</td>\n",
       "      <td>0</td>\n",
       "      <td>0</td>\n",
       "      <td>...</td>\n",
       "      <td>0</td>\n",
       "      <td>0</td>\n",
       "      <td>0</td>\n",
       "      <td>0</td>\n",
       "      <td>0</td>\n",
       "      <td>0</td>\n",
       "      <td>0</td>\n",
       "      <td>0</td>\n",
       "      <td>0</td>\n",
       "      <td>0</td>\n",
       "    </tr>\n",
       "    <tr>\n",
       "      <th>11</th>\n",
       "      <td>the Virgin Mary</td>\n",
       "      <td>False</td>\n",
       "      <td>0</td>\n",
       "      <td>0</td>\n",
       "      <td>1.0</td>\n",
       "      <td>3</td>\n",
       "      <td>xxx Xxxxx Xxxx</td>\n",
       "      <td>0</td>\n",
       "      <td>0</td>\n",
       "      <td>0</td>\n",
       "      <td>...</td>\n",
       "      <td>0</td>\n",
       "      <td>0</td>\n",
       "      <td>0</td>\n",
       "      <td>0</td>\n",
       "      <td>0</td>\n",
       "      <td>0</td>\n",
       "      <td>0</td>\n",
       "      <td>0</td>\n",
       "      <td>0</td>\n",
       "      <td>0</td>\n",
       "    </tr>\n",
       "    <tr>\n",
       "      <th>12</th>\n",
       "      <td>Immediately</td>\n",
       "      <td>False</td>\n",
       "      <td>0</td>\n",
       "      <td>0</td>\n",
       "      <td>2.0</td>\n",
       "      <td>1</td>\n",
       "      <td>Xxxxx</td>\n",
       "      <td>0</td>\n",
       "      <td>0</td>\n",
       "      <td>0</td>\n",
       "      <td>...</td>\n",
       "      <td>0</td>\n",
       "      <td>0</td>\n",
       "      <td>0</td>\n",
       "      <td>0</td>\n",
       "      <td>0</td>\n",
       "      <td>0</td>\n",
       "      <td>0</td>\n",
       "      <td>0</td>\n",
       "      <td>0</td>\n",
       "      <td>0</td>\n",
       "    </tr>\n",
       "    <tr>\n",
       "      <th>13</th>\n",
       "      <td>the Main Building</td>\n",
       "      <td>False</td>\n",
       "      <td>0</td>\n",
       "      <td>0</td>\n",
       "      <td>2.0</td>\n",
       "      <td>3</td>\n",
       "      <td>xxx Xxxx Xxxxx</td>\n",
       "      <td>0</td>\n",
       "      <td>0</td>\n",
       "      <td>0</td>\n",
       "      <td>...</td>\n",
       "      <td>0</td>\n",
       "      <td>0</td>\n",
       "      <td>0</td>\n",
       "      <td>0</td>\n",
       "      <td>0</td>\n",
       "      <td>0</td>\n",
       "      <td>0</td>\n",
       "      <td>0</td>\n",
       "      <td>0</td>\n",
       "      <td>0</td>\n",
       "    </tr>\n",
       "    <tr>\n",
       "      <th>14</th>\n",
       "      <td>facing</td>\n",
       "      <td>False</td>\n",
       "      <td>0</td>\n",
       "      <td>0</td>\n",
       "      <td>2.0</td>\n",
       "      <td>1</td>\n",
       "      <td>xxxx</td>\n",
       "      <td>0</td>\n",
       "      <td>0</td>\n",
       "      <td>0</td>\n",
       "      <td>...</td>\n",
       "      <td>0</td>\n",
       "      <td>0</td>\n",
       "      <td>0</td>\n",
       "      <td>0</td>\n",
       "      <td>0</td>\n",
       "      <td>0</td>\n",
       "      <td>0</td>\n",
       "      <td>0</td>\n",
       "      <td>0</td>\n",
       "      <td>0</td>\n",
       "    </tr>\n",
       "  </tbody>\n",
       "</table>\n",
       "<p>15 rows × 87 columns</p>\n",
       "</div>"
      ],
      "text/plain": [
       "                 text  isAnswer  titleId  paragrapghId  sentenceId  wordCount  \\\n",
       "0     Architecturally     False        0             0         0.0          1   \n",
       "1              school     False        0             0         0.0          1   \n",
       "2            Catholic     False        0             0         0.0          1   \n",
       "3           character     False        0             0         0.0          1   \n",
       "4                Atop     False        0             0         1.0          1   \n",
       "5                Main     False        0             0         1.0          1   \n",
       "6            Building     False        0             0         1.0          1   \n",
       "7                gold     False        0             0         1.0          1   \n",
       "8                dome     False        0             0         1.0          1   \n",
       "9              golden     False        0             0         1.0          1   \n",
       "10             statue     False        0             0         1.0          1   \n",
       "11    the Virgin Mary     False        0             0         1.0          3   \n",
       "12        Immediately     False        0             0         2.0          1   \n",
       "13  the Main Building     False        0             0         2.0          3   \n",
       "14             facing     False        0             0         2.0          1   \n",
       "\n",
       "              shape  NER_CARDINAL  NER_DATE  NER_EVENT  ...  DEP_nsubj  \\\n",
       "0             Xxxxx             0         0          0  ...          0   \n",
       "1              xxxx             0         0          0  ...          1   \n",
       "2             Xxxxx             0         0          0  ...          0   \n",
       "3              xxxx             0         0          0  ...          0   \n",
       "4              Xxxx             0         0          0  ...          0   \n",
       "5              Xxxx             0         0          0  ...          0   \n",
       "6             Xxxxx             0         0          0  ...          0   \n",
       "7              xxxx             0         0          0  ...          0   \n",
       "8              xxxx             0         0          0  ...          0   \n",
       "9              xxxx             0         0          0  ...          0   \n",
       "10             xxxx             0         0          0  ...          0   \n",
       "11   xxx Xxxxx Xxxx             0         0          0  ...          0   \n",
       "12            Xxxxx             0         0          0  ...          0   \n",
       "13   xxx Xxxx Xxxxx             0         0          0  ...          0   \n",
       "14             xxxx             0         0          0  ...          0   \n",
       "\n",
       "    DEP_nsubjpass  DEP_nummod  DEP_oprd  DEP_pcomp  DEP_pobj  DEP_poss  \\\n",
       "0               0           0         0          0         0         0   \n",
       "1               0           0         0          0         0         0   \n",
       "2               0           0         0          0         0         0   \n",
       "3               0           0         0          0         0         0   \n",
       "4               0           0         0          0         0         0   \n",
       "5               0           0         0          0         0         0   \n",
       "6               0           0         0          0         0         1   \n",
       "7               0           0         0          0         0         0   \n",
       "8               0           0         0          0         1         0   \n",
       "9               0           0         0          0         0         0   \n",
       "10              0           0         0          0         0         0   \n",
       "11              0           0         0          0         0         0   \n",
       "12              0           0         0          0         0         0   \n",
       "13              0           0         0          0         0         0   \n",
       "14              0           0         0          0         0         0   \n",
       "\n",
       "    DEP_prep  DEP_relcl  DEP_xcomp  \n",
       "0          0          0          0  \n",
       "1          0          0          0  \n",
       "2          0          0          0  \n",
       "3          0          0          0  \n",
       "4          1          0          0  \n",
       "5          0          0          0  \n",
       "6          0          0          0  \n",
       "7          0          0          0  \n",
       "8          0          0          0  \n",
       "9          0          0          0  \n",
       "10         0          0          0  \n",
       "11         0          0          0  \n",
       "12         0          0          0  \n",
       "13         0          0          0  \n",
       "14         0          0          0  \n",
       "\n",
       "[15 rows x 87 columns]"
      ]
     },
     "execution_count": 8,
     "metadata": {},
     "output_type": "execute_result"
    }
   ],
   "source": [
    "df.head(15)"
   ]
  },
  {
   "cell_type": "markdown",
   "id": "e3f8b4ab",
   "metadata": {
    "papermill": {
     "duration": 0.020963,
     "end_time": "2023-05-15T08:55:38.509580",
     "exception": false,
     "start_time": "2023-05-15T08:55:38.488617",
     "status": "completed"
    },
    "tags": []
   },
   "source": [
    "## Remove columns\n",
    "We need to remove the columns that are not features of the words."
   ]
  },
  {
   "cell_type": "code",
   "execution_count": 9,
   "id": "25efd278",
   "metadata": {
    "execution": {
     "iopub.execute_input": "2023-05-15T08:55:38.554291Z",
     "iopub.status.busy": "2023-05-15T08:55:38.553666Z",
     "iopub.status.idle": "2023-05-15T08:55:38.558875Z",
     "shell.execute_reply": "2023-05-15T08:55:38.558036Z"
    },
    "papermill": {
     "duration": 0.031125,
     "end_time": "2023-05-15T08:55:38.561889",
     "exception": false,
     "start_time": "2023-05-15T08:55:38.530764",
     "status": "completed"
    },
    "tags": []
   },
   "outputs": [],
   "source": [
    "columnsToDrop = ['text', 'titleId', 'paragrapghId', 'sentenceId', 'shape']"
   ]
  },
  {
   "cell_type": "code",
   "execution_count": 10,
   "id": "bb0a8f8d",
   "metadata": {
    "execution": {
     "iopub.execute_input": "2023-05-15T08:55:38.609378Z",
     "iopub.status.busy": "2023-05-15T08:55:38.608677Z",
     "iopub.status.idle": "2023-05-15T08:55:38.617722Z",
     "shell.execute_reply": "2023-05-15T08:55:38.616528Z"
    },
    "papermill": {
     "duration": 0.036118,
     "end_time": "2023-05-15T08:55:38.620801",
     "exception": false,
     "start_time": "2023-05-15T08:55:38.584683",
     "status": "completed"
    },
    "tags": []
   },
   "outputs": [],
   "source": [
    "df = df.drop(columnsToDrop, axis = 1)"
   ]
  },
  {
   "cell_type": "code",
   "execution_count": 11,
   "id": "445aea24",
   "metadata": {
    "execution": {
     "iopub.execute_input": "2023-05-15T08:55:38.668463Z",
     "iopub.status.busy": "2023-05-15T08:55:38.667782Z",
     "iopub.status.idle": "2023-05-15T08:55:38.692668Z",
     "shell.execute_reply": "2023-05-15T08:55:38.691472Z"
    },
    "papermill": {
     "duration": 0.051187,
     "end_time": "2023-05-15T08:55:38.695400",
     "exception": false,
     "start_time": "2023-05-15T08:55:38.644213",
     "status": "completed"
    },
    "tags": []
   },
   "outputs": [
    {
     "data": {
      "text/html": [
       "<div>\n",
       "<style scoped>\n",
       "    .dataframe tbody tr th:only-of-type {\n",
       "        vertical-align: middle;\n",
       "    }\n",
       "\n",
       "    .dataframe tbody tr th {\n",
       "        vertical-align: top;\n",
       "    }\n",
       "\n",
       "    .dataframe thead th {\n",
       "        text-align: right;\n",
       "    }\n",
       "</style>\n",
       "<table border=\"1\" class=\"dataframe\">\n",
       "  <thead>\n",
       "    <tr style=\"text-align: right;\">\n",
       "      <th></th>\n",
       "      <th>isAnswer</th>\n",
       "      <th>wordCount</th>\n",
       "      <th>NER_CARDINAL</th>\n",
       "      <th>NER_DATE</th>\n",
       "      <th>NER_EVENT</th>\n",
       "      <th>NER_FAC</th>\n",
       "      <th>NER_GPE</th>\n",
       "      <th>NER_LANGUAGE</th>\n",
       "      <th>NER_LAW</th>\n",
       "      <th>NER_LOC</th>\n",
       "      <th>...</th>\n",
       "      <th>DEP_nsubj</th>\n",
       "      <th>DEP_nsubjpass</th>\n",
       "      <th>DEP_nummod</th>\n",
       "      <th>DEP_oprd</th>\n",
       "      <th>DEP_pcomp</th>\n",
       "      <th>DEP_pobj</th>\n",
       "      <th>DEP_poss</th>\n",
       "      <th>DEP_prep</th>\n",
       "      <th>DEP_relcl</th>\n",
       "      <th>DEP_xcomp</th>\n",
       "    </tr>\n",
       "  </thead>\n",
       "  <tbody>\n",
       "    <tr>\n",
       "      <th>0</th>\n",
       "      <td>False</td>\n",
       "      <td>1</td>\n",
       "      <td>0</td>\n",
       "      <td>0</td>\n",
       "      <td>0</td>\n",
       "      <td>0</td>\n",
       "      <td>0</td>\n",
       "      <td>0</td>\n",
       "      <td>0</td>\n",
       "      <td>0</td>\n",
       "      <td>...</td>\n",
       "      <td>0</td>\n",
       "      <td>0</td>\n",
       "      <td>0</td>\n",
       "      <td>0</td>\n",
       "      <td>0</td>\n",
       "      <td>0</td>\n",
       "      <td>0</td>\n",
       "      <td>0</td>\n",
       "      <td>0</td>\n",
       "      <td>0</td>\n",
       "    </tr>\n",
       "    <tr>\n",
       "      <th>1</th>\n",
       "      <td>False</td>\n",
       "      <td>1</td>\n",
       "      <td>0</td>\n",
       "      <td>0</td>\n",
       "      <td>0</td>\n",
       "      <td>0</td>\n",
       "      <td>0</td>\n",
       "      <td>0</td>\n",
       "      <td>0</td>\n",
       "      <td>0</td>\n",
       "      <td>...</td>\n",
       "      <td>1</td>\n",
       "      <td>0</td>\n",
       "      <td>0</td>\n",
       "      <td>0</td>\n",
       "      <td>0</td>\n",
       "      <td>0</td>\n",
       "      <td>0</td>\n",
       "      <td>0</td>\n",
       "      <td>0</td>\n",
       "      <td>0</td>\n",
       "    </tr>\n",
       "    <tr>\n",
       "      <th>2</th>\n",
       "      <td>False</td>\n",
       "      <td>1</td>\n",
       "      <td>0</td>\n",
       "      <td>0</td>\n",
       "      <td>0</td>\n",
       "      <td>0</td>\n",
       "      <td>0</td>\n",
       "      <td>0</td>\n",
       "      <td>0</td>\n",
       "      <td>0</td>\n",
       "      <td>...</td>\n",
       "      <td>0</td>\n",
       "      <td>0</td>\n",
       "      <td>0</td>\n",
       "      <td>0</td>\n",
       "      <td>0</td>\n",
       "      <td>0</td>\n",
       "      <td>0</td>\n",
       "      <td>0</td>\n",
       "      <td>0</td>\n",
       "      <td>0</td>\n",
       "    </tr>\n",
       "    <tr>\n",
       "      <th>3</th>\n",
       "      <td>False</td>\n",
       "      <td>1</td>\n",
       "      <td>0</td>\n",
       "      <td>0</td>\n",
       "      <td>0</td>\n",
       "      <td>0</td>\n",
       "      <td>0</td>\n",
       "      <td>0</td>\n",
       "      <td>0</td>\n",
       "      <td>0</td>\n",
       "      <td>...</td>\n",
       "      <td>0</td>\n",
       "      <td>0</td>\n",
       "      <td>0</td>\n",
       "      <td>0</td>\n",
       "      <td>0</td>\n",
       "      <td>0</td>\n",
       "      <td>0</td>\n",
       "      <td>0</td>\n",
       "      <td>0</td>\n",
       "      <td>0</td>\n",
       "    </tr>\n",
       "    <tr>\n",
       "      <th>4</th>\n",
       "      <td>False</td>\n",
       "      <td>1</td>\n",
       "      <td>0</td>\n",
       "      <td>0</td>\n",
       "      <td>0</td>\n",
       "      <td>0</td>\n",
       "      <td>0</td>\n",
       "      <td>0</td>\n",
       "      <td>0</td>\n",
       "      <td>0</td>\n",
       "      <td>...</td>\n",
       "      <td>0</td>\n",
       "      <td>0</td>\n",
       "      <td>0</td>\n",
       "      <td>0</td>\n",
       "      <td>0</td>\n",
       "      <td>0</td>\n",
       "      <td>0</td>\n",
       "      <td>1</td>\n",
       "      <td>0</td>\n",
       "      <td>0</td>\n",
       "    </tr>\n",
       "    <tr>\n",
       "      <th>5</th>\n",
       "      <td>False</td>\n",
       "      <td>1</td>\n",
       "      <td>0</td>\n",
       "      <td>0</td>\n",
       "      <td>0</td>\n",
       "      <td>0</td>\n",
       "      <td>0</td>\n",
       "      <td>0</td>\n",
       "      <td>0</td>\n",
       "      <td>0</td>\n",
       "      <td>...</td>\n",
       "      <td>0</td>\n",
       "      <td>0</td>\n",
       "      <td>0</td>\n",
       "      <td>0</td>\n",
       "      <td>0</td>\n",
       "      <td>0</td>\n",
       "      <td>0</td>\n",
       "      <td>0</td>\n",
       "      <td>0</td>\n",
       "      <td>0</td>\n",
       "    </tr>\n",
       "    <tr>\n",
       "      <th>6</th>\n",
       "      <td>False</td>\n",
       "      <td>1</td>\n",
       "      <td>0</td>\n",
       "      <td>0</td>\n",
       "      <td>0</td>\n",
       "      <td>0</td>\n",
       "      <td>0</td>\n",
       "      <td>0</td>\n",
       "      <td>0</td>\n",
       "      <td>0</td>\n",
       "      <td>...</td>\n",
       "      <td>0</td>\n",
       "      <td>0</td>\n",
       "      <td>0</td>\n",
       "      <td>0</td>\n",
       "      <td>0</td>\n",
       "      <td>0</td>\n",
       "      <td>1</td>\n",
       "      <td>0</td>\n",
       "      <td>0</td>\n",
       "      <td>0</td>\n",
       "    </tr>\n",
       "    <tr>\n",
       "      <th>7</th>\n",
       "      <td>False</td>\n",
       "      <td>1</td>\n",
       "      <td>0</td>\n",
       "      <td>0</td>\n",
       "      <td>0</td>\n",
       "      <td>0</td>\n",
       "      <td>0</td>\n",
       "      <td>0</td>\n",
       "      <td>0</td>\n",
       "      <td>0</td>\n",
       "      <td>...</td>\n",
       "      <td>0</td>\n",
       "      <td>0</td>\n",
       "      <td>0</td>\n",
       "      <td>0</td>\n",
       "      <td>0</td>\n",
       "      <td>0</td>\n",
       "      <td>0</td>\n",
       "      <td>0</td>\n",
       "      <td>0</td>\n",
       "      <td>0</td>\n",
       "    </tr>\n",
       "    <tr>\n",
       "      <th>8</th>\n",
       "      <td>False</td>\n",
       "      <td>1</td>\n",
       "      <td>0</td>\n",
       "      <td>0</td>\n",
       "      <td>0</td>\n",
       "      <td>0</td>\n",
       "      <td>0</td>\n",
       "      <td>0</td>\n",
       "      <td>0</td>\n",
       "      <td>0</td>\n",
       "      <td>...</td>\n",
       "      <td>0</td>\n",
       "      <td>0</td>\n",
       "      <td>0</td>\n",
       "      <td>0</td>\n",
       "      <td>0</td>\n",
       "      <td>1</td>\n",
       "      <td>0</td>\n",
       "      <td>0</td>\n",
       "      <td>0</td>\n",
       "      <td>0</td>\n",
       "    </tr>\n",
       "    <tr>\n",
       "      <th>9</th>\n",
       "      <td>False</td>\n",
       "      <td>1</td>\n",
       "      <td>0</td>\n",
       "      <td>0</td>\n",
       "      <td>0</td>\n",
       "      <td>0</td>\n",
       "      <td>0</td>\n",
       "      <td>0</td>\n",
       "      <td>0</td>\n",
       "      <td>0</td>\n",
       "      <td>...</td>\n",
       "      <td>0</td>\n",
       "      <td>0</td>\n",
       "      <td>0</td>\n",
       "      <td>0</td>\n",
       "      <td>0</td>\n",
       "      <td>0</td>\n",
       "      <td>0</td>\n",
       "      <td>0</td>\n",
       "      <td>0</td>\n",
       "      <td>0</td>\n",
       "    </tr>\n",
       "    <tr>\n",
       "      <th>10</th>\n",
       "      <td>False</td>\n",
       "      <td>1</td>\n",
       "      <td>0</td>\n",
       "      <td>0</td>\n",
       "      <td>0</td>\n",
       "      <td>0</td>\n",
       "      <td>0</td>\n",
       "      <td>0</td>\n",
       "      <td>0</td>\n",
       "      <td>0</td>\n",
       "      <td>...</td>\n",
       "      <td>0</td>\n",
       "      <td>0</td>\n",
       "      <td>0</td>\n",
       "      <td>0</td>\n",
       "      <td>0</td>\n",
       "      <td>0</td>\n",
       "      <td>0</td>\n",
       "      <td>0</td>\n",
       "      <td>0</td>\n",
       "      <td>0</td>\n",
       "    </tr>\n",
       "    <tr>\n",
       "      <th>11</th>\n",
       "      <td>False</td>\n",
       "      <td>3</td>\n",
       "      <td>0</td>\n",
       "      <td>0</td>\n",
       "      <td>0</td>\n",
       "      <td>0</td>\n",
       "      <td>0</td>\n",
       "      <td>0</td>\n",
       "      <td>0</td>\n",
       "      <td>0</td>\n",
       "      <td>...</td>\n",
       "      <td>0</td>\n",
       "      <td>0</td>\n",
       "      <td>0</td>\n",
       "      <td>0</td>\n",
       "      <td>0</td>\n",
       "      <td>0</td>\n",
       "      <td>0</td>\n",
       "      <td>0</td>\n",
       "      <td>0</td>\n",
       "      <td>0</td>\n",
       "    </tr>\n",
       "    <tr>\n",
       "      <th>12</th>\n",
       "      <td>False</td>\n",
       "      <td>1</td>\n",
       "      <td>0</td>\n",
       "      <td>0</td>\n",
       "      <td>0</td>\n",
       "      <td>0</td>\n",
       "      <td>0</td>\n",
       "      <td>0</td>\n",
       "      <td>0</td>\n",
       "      <td>0</td>\n",
       "      <td>...</td>\n",
       "      <td>0</td>\n",
       "      <td>0</td>\n",
       "      <td>0</td>\n",
       "      <td>0</td>\n",
       "      <td>0</td>\n",
       "      <td>0</td>\n",
       "      <td>0</td>\n",
       "      <td>0</td>\n",
       "      <td>0</td>\n",
       "      <td>0</td>\n",
       "    </tr>\n",
       "    <tr>\n",
       "      <th>13</th>\n",
       "      <td>False</td>\n",
       "      <td>3</td>\n",
       "      <td>0</td>\n",
       "      <td>0</td>\n",
       "      <td>0</td>\n",
       "      <td>1</td>\n",
       "      <td>0</td>\n",
       "      <td>0</td>\n",
       "      <td>0</td>\n",
       "      <td>0</td>\n",
       "      <td>...</td>\n",
       "      <td>0</td>\n",
       "      <td>0</td>\n",
       "      <td>0</td>\n",
       "      <td>0</td>\n",
       "      <td>0</td>\n",
       "      <td>0</td>\n",
       "      <td>0</td>\n",
       "      <td>0</td>\n",
       "      <td>0</td>\n",
       "      <td>0</td>\n",
       "    </tr>\n",
       "    <tr>\n",
       "      <th>14</th>\n",
       "      <td>False</td>\n",
       "      <td>1</td>\n",
       "      <td>0</td>\n",
       "      <td>0</td>\n",
       "      <td>0</td>\n",
       "      <td>0</td>\n",
       "      <td>0</td>\n",
       "      <td>0</td>\n",
       "      <td>0</td>\n",
       "      <td>0</td>\n",
       "      <td>...</td>\n",
       "      <td>0</td>\n",
       "      <td>0</td>\n",
       "      <td>0</td>\n",
       "      <td>0</td>\n",
       "      <td>0</td>\n",
       "      <td>0</td>\n",
       "      <td>0</td>\n",
       "      <td>0</td>\n",
       "      <td>0</td>\n",
       "      <td>0</td>\n",
       "    </tr>\n",
       "  </tbody>\n",
       "</table>\n",
       "<p>15 rows × 82 columns</p>\n",
       "</div>"
      ],
      "text/plain": [
       "    isAnswer  wordCount  NER_CARDINAL  NER_DATE  NER_EVENT  NER_FAC  NER_GPE  \\\n",
       "0      False          1             0         0          0        0        0   \n",
       "1      False          1             0         0          0        0        0   \n",
       "2      False          1             0         0          0        0        0   \n",
       "3      False          1             0         0          0        0        0   \n",
       "4      False          1             0         0          0        0        0   \n",
       "5      False          1             0         0          0        0        0   \n",
       "6      False          1             0         0          0        0        0   \n",
       "7      False          1             0         0          0        0        0   \n",
       "8      False          1             0         0          0        0        0   \n",
       "9      False          1             0         0          0        0        0   \n",
       "10     False          1             0         0          0        0        0   \n",
       "11     False          3             0         0          0        0        0   \n",
       "12     False          1             0         0          0        0        0   \n",
       "13     False          3             0         0          0        1        0   \n",
       "14     False          1             0         0          0        0        0   \n",
       "\n",
       "    NER_LANGUAGE  NER_LAW  NER_LOC  ...  DEP_nsubj  DEP_nsubjpass  DEP_nummod  \\\n",
       "0              0        0        0  ...          0              0           0   \n",
       "1              0        0        0  ...          1              0           0   \n",
       "2              0        0        0  ...          0              0           0   \n",
       "3              0        0        0  ...          0              0           0   \n",
       "4              0        0        0  ...          0              0           0   \n",
       "5              0        0        0  ...          0              0           0   \n",
       "6              0        0        0  ...          0              0           0   \n",
       "7              0        0        0  ...          0              0           0   \n",
       "8              0        0        0  ...          0              0           0   \n",
       "9              0        0        0  ...          0              0           0   \n",
       "10             0        0        0  ...          0              0           0   \n",
       "11             0        0        0  ...          0              0           0   \n",
       "12             0        0        0  ...          0              0           0   \n",
       "13             0        0        0  ...          0              0           0   \n",
       "14             0        0        0  ...          0              0           0   \n",
       "\n",
       "    DEP_oprd  DEP_pcomp  DEP_pobj  DEP_poss  DEP_prep  DEP_relcl  DEP_xcomp  \n",
       "0          0          0         0         0         0          0          0  \n",
       "1          0          0         0         0         0          0          0  \n",
       "2          0          0         0         0         0          0          0  \n",
       "3          0          0         0         0         0          0          0  \n",
       "4          0          0         0         0         1          0          0  \n",
       "5          0          0         0         0         0          0          0  \n",
       "6          0          0         0         1         0          0          0  \n",
       "7          0          0         0         0         0          0          0  \n",
       "8          0          0         1         0         0          0          0  \n",
       "9          0          0         0         0         0          0          0  \n",
       "10         0          0         0         0         0          0          0  \n",
       "11         0          0         0         0         0          0          0  \n",
       "12         0          0         0         0         0          0          0  \n",
       "13         0          0         0         0         0          0          0  \n",
       "14         0          0         0         0         0          0          0  \n",
       "\n",
       "[15 rows x 82 columns]"
      ]
     },
     "execution_count": 11,
     "metadata": {},
     "output_type": "execute_result"
    }
   ],
   "source": [
    "df.head(15)"
   ]
  },
  {
   "cell_type": "markdown",
   "id": "4cf18a63",
   "metadata": {
    "papermill": {
     "duration": 0.02317,
     "end_time": "2023-05-15T08:55:38.741210",
     "exception": false,
     "start_time": "2023-05-15T08:55:38.718040",
     "status": "completed"
    },
    "tags": []
   },
   "source": [
    "## Split to test and train"
   ]
  },
  {
   "cell_type": "code",
   "execution_count": 12,
   "id": "2cfda799",
   "metadata": {
    "execution": {
     "iopub.execute_input": "2023-05-15T08:55:38.788849Z",
     "iopub.status.busy": "2023-05-15T08:55:38.788394Z",
     "iopub.status.idle": "2023-05-15T08:55:40.031646Z",
     "shell.execute_reply": "2023-05-15T08:55:40.030334Z"
    },
    "papermill": {
     "duration": 1.271186,
     "end_time": "2023-05-15T08:55:40.035055",
     "exception": false,
     "start_time": "2023-05-15T08:55:38.763869",
     "status": "completed"
    },
    "tags": []
   },
   "outputs": [],
   "source": [
    "from sklearn.model_selection import train_test_split\n",
    "\n",
    "x_data = df.drop(labels=['isAnswer'], axis=1)\n",
    "y_data = df['isAnswer']\n",
    "\n",
    "x_train, x_test, y_train, y_test = train_test_split(x_data, \n",
    "                                                    y_data, \n",
    "                                                    test_size=0.1, \n",
    "                                                    random_state=4)"
   ]
  },
  {
   "cell_type": "code",
   "execution_count": 13,
   "id": "7e1c402f",
   "metadata": {
    "execution": {
     "iopub.execute_input": "2023-05-15T08:55:40.082937Z",
     "iopub.status.busy": "2023-05-15T08:55:40.082513Z",
     "iopub.status.idle": "2023-05-15T08:55:40.089408Z",
     "shell.execute_reply": "2023-05-15T08:55:40.088042Z"
    },
    "papermill": {
     "duration": 0.034118,
     "end_time": "2023-05-15T08:55:40.092187",
     "exception": false,
     "start_time": "2023-05-15T08:55:40.058069",
     "status": "completed"
    },
    "tags": []
   },
   "outputs": [
    {
     "name": "stdout",
     "output_type": "stream",
     "text": [
      "7799\n",
      "7799\n",
      "867\n",
      "867\n"
     ]
    }
   ],
   "source": [
    "print(len(x_train))\n",
    "print(len(y_train))\n",
    "print(len(x_test))\n",
    "print(len(y_test))"
   ]
  },
  {
   "cell_type": "code",
   "execution_count": 14,
   "id": "bc8eaca3",
   "metadata": {
    "execution": {
     "iopub.execute_input": "2023-05-15T08:55:40.141610Z",
     "iopub.status.busy": "2023-05-15T08:55:40.139188Z",
     "iopub.status.idle": "2023-05-15T08:55:40.150883Z",
     "shell.execute_reply": "2023-05-15T08:55:40.149577Z"
    },
    "papermill": {
     "duration": 0.038976,
     "end_time": "2023-05-15T08:55:40.153821",
     "exception": false,
     "start_time": "2023-05-15T08:55:40.114845",
     "status": "completed"
    },
    "tags": []
   },
   "outputs": [
    {
     "data": {
      "text/plain": [
       "43      False\n",
       "2412    False\n",
       "3791    False\n",
       "29      False\n",
       "8663    False\n",
       "Name: isAnswer, dtype: bool"
      ]
     },
     "execution_count": 14,
     "metadata": {},
     "output_type": "execute_result"
    }
   ],
   "source": [
    "y_test.head()"
   ]
  },
  {
   "cell_type": "markdown",
   "id": "cc3a3c01",
   "metadata": {
    "papermill": {
     "duration": 0.023742,
     "end_time": "2023-05-15T08:55:40.200336",
     "exception": false,
     "start_time": "2023-05-15T08:55:40.176594",
     "status": "completed"
    },
    "tags": []
   },
   "source": [
    "## Train model"
   ]
  },
  {
   "cell_type": "code",
   "execution_count": 15,
   "id": "f4b6ea56",
   "metadata": {
    "execution": {
     "iopub.execute_input": "2023-05-15T08:55:40.250642Z",
     "iopub.status.busy": "2023-05-15T08:55:40.249792Z",
     "iopub.status.idle": "2023-05-15T08:55:40.258720Z",
     "shell.execute_reply": "2023-05-15T08:55:40.257717Z"
    },
    "papermill": {
     "duration": 0.036315,
     "end_time": "2023-05-15T08:55:40.261576",
     "exception": false,
     "start_time": "2023-05-15T08:55:40.225261",
     "status": "completed"
    },
    "tags": []
   },
   "outputs": [],
   "source": [
    "from sklearn.naive_bayes import GaussianNB\n",
    "\n",
    "gnb = GaussianNB()"
   ]
  },
  {
   "cell_type": "code",
   "execution_count": 16,
   "id": "7b04685f",
   "metadata": {
    "execution": {
     "iopub.execute_input": "2023-05-15T08:55:40.309239Z",
     "iopub.status.busy": "2023-05-15T08:55:40.308236Z",
     "iopub.status.idle": "2023-05-15T08:55:40.347583Z",
     "shell.execute_reply": "2023-05-15T08:55:40.345992Z"
    },
    "papermill": {
     "duration": 0.066061,
     "end_time": "2023-05-15T08:55:40.350601",
     "exception": false,
     "start_time": "2023-05-15T08:55:40.284540",
     "status": "completed"
    },
    "tags": []
   },
   "outputs": [],
   "source": [
    "predictor = gnb.fit(x_train, y_train)\n",
    "y_pred = predictor.predict(x_test)"
   ]
  },
  {
   "cell_type": "markdown",
   "id": "95806782",
   "metadata": {
    "papermill": {
     "duration": 0.022209,
     "end_time": "2023-05-15T08:55:40.395064",
     "exception": false,
     "start_time": "2023-05-15T08:55:40.372855",
     "status": "completed"
    },
    "tags": []
   },
   "source": [
    "### Show Accuracy"
   ]
  },
  {
   "cell_type": "code",
   "execution_count": 17,
   "id": "d64d9c0e",
   "metadata": {
    "execution": {
     "iopub.execute_input": "2023-05-15T08:55:40.441603Z",
     "iopub.status.busy": "2023-05-15T08:55:40.441154Z",
     "iopub.status.idle": "2023-05-15T08:55:40.449220Z",
     "shell.execute_reply": "2023-05-15T08:55:40.447723Z"
    },
    "papermill": {
     "duration": 0.034341,
     "end_time": "2023-05-15T08:55:40.451584",
     "exception": false,
     "start_time": "2023-05-15T08:55:40.417243",
     "status": "completed"
    },
    "tags": []
   },
   "outputs": [
    {
     "name": "stdout",
     "output_type": "stream",
     "text": [
      "Correctly guessed: 31.14%\n"
     ]
    }
   ],
   "source": [
    "correctCount = (y_test == y_pred).sum()\n",
    "\n",
    "print('Correctly guessed:', '{:.2f}%'.format((correctCount / len(y_test)) * 100))"
   ]
  },
  {
   "cell_type": "markdown",
   "id": "6af21f26",
   "metadata": {
    "papermill": {
     "duration": 0.022102,
     "end_time": "2023-05-15T08:55:40.495831",
     "exception": false,
     "start_time": "2023-05-15T08:55:40.473729",
     "status": "completed"
    },
    "tags": []
   },
   "source": [
    "That doesn't really tell us anything. Since our dataset is not balanced - only 02,53%  of the words are answers we need to use a different metric.  "
   ]
  },
  {
   "cell_type": "code",
   "execution_count": 18,
   "id": "f5401df4",
   "metadata": {
    "execution": {
     "iopub.execute_input": "2023-05-15T08:55:40.545830Z",
     "iopub.status.busy": "2023-05-15T08:55:40.544890Z",
     "iopub.status.idle": "2023-05-15T08:55:48.101000Z",
     "shell.execute_reply": "2023-05-15T08:55:48.099381Z"
    },
    "papermill": {
     "duration": 7.586031,
     "end_time": "2023-05-15T08:55:48.104204",
     "exception": false,
     "start_time": "2023-05-15T08:55:40.518173",
     "status": "completed"
    },
    "tags": []
   },
   "outputs": [],
   "source": [
    "from tensorflow.keras import Sequential\n",
    "from tensorflow.keras.layers import Dense, LSTM, Dropout"
   ]
  },
  {
   "cell_type": "code",
   "execution_count": 19,
   "id": "879740c6",
   "metadata": {
    "execution": {
     "iopub.execute_input": "2023-05-15T08:55:48.151217Z",
     "iopub.status.busy": "2023-05-15T08:55:48.150480Z",
     "iopub.status.idle": "2023-05-15T08:55:48.173216Z",
     "shell.execute_reply": "2023-05-15T08:55:48.171563Z"
    },
    "papermill": {
     "duration": 0.049281,
     "end_time": "2023-05-15T08:55:48.176099",
     "exception": false,
     "start_time": "2023-05-15T08:55:48.126818",
     "status": "completed"
    },
    "tags": []
   },
   "outputs": [
    {
     "data": {
      "text/html": [
       "<div>\n",
       "<style scoped>\n",
       "    .dataframe tbody tr th:only-of-type {\n",
       "        vertical-align: middle;\n",
       "    }\n",
       "\n",
       "    .dataframe tbody tr th {\n",
       "        vertical-align: top;\n",
       "    }\n",
       "\n",
       "    .dataframe thead th {\n",
       "        text-align: right;\n",
       "    }\n",
       "</style>\n",
       "<table border=\"1\" class=\"dataframe\">\n",
       "  <thead>\n",
       "    <tr style=\"text-align: right;\">\n",
       "      <th></th>\n",
       "      <th>wordCount</th>\n",
       "      <th>NER_CARDINAL</th>\n",
       "      <th>NER_DATE</th>\n",
       "      <th>NER_EVENT</th>\n",
       "      <th>NER_FAC</th>\n",
       "      <th>NER_GPE</th>\n",
       "      <th>NER_LANGUAGE</th>\n",
       "      <th>NER_LAW</th>\n",
       "      <th>NER_LOC</th>\n",
       "      <th>NER_MONEY</th>\n",
       "      <th>...</th>\n",
       "      <th>DEP_nsubj</th>\n",
       "      <th>DEP_nsubjpass</th>\n",
       "      <th>DEP_nummod</th>\n",
       "      <th>DEP_oprd</th>\n",
       "      <th>DEP_pcomp</th>\n",
       "      <th>DEP_pobj</th>\n",
       "      <th>DEP_poss</th>\n",
       "      <th>DEP_prep</th>\n",
       "      <th>DEP_relcl</th>\n",
       "      <th>DEP_xcomp</th>\n",
       "    </tr>\n",
       "  </thead>\n",
       "  <tbody>\n",
       "    <tr>\n",
       "      <th>1779</th>\n",
       "      <td>1</td>\n",
       "      <td>0</td>\n",
       "      <td>0</td>\n",
       "      <td>0</td>\n",
       "      <td>0</td>\n",
       "      <td>0</td>\n",
       "      <td>0</td>\n",
       "      <td>0</td>\n",
       "      <td>0</td>\n",
       "      <td>0</td>\n",
       "      <td>...</td>\n",
       "      <td>0</td>\n",
       "      <td>0</td>\n",
       "      <td>0</td>\n",
       "      <td>0</td>\n",
       "      <td>0</td>\n",
       "      <td>0</td>\n",
       "      <td>0</td>\n",
       "      <td>0</td>\n",
       "      <td>0</td>\n",
       "      <td>0</td>\n",
       "    </tr>\n",
       "  </tbody>\n",
       "</table>\n",
       "<p>1 rows × 81 columns</p>\n",
       "</div>"
      ],
      "text/plain": [
       "      wordCount  NER_CARDINAL  NER_DATE  NER_EVENT  NER_FAC  NER_GPE  \\\n",
       "1779          1             0         0          0        0        0   \n",
       "\n",
       "      NER_LANGUAGE  NER_LAW  NER_LOC  NER_MONEY  ...  DEP_nsubj  \\\n",
       "1779             0        0        0          0  ...          0   \n",
       "\n",
       "      DEP_nsubjpass  DEP_nummod  DEP_oprd  DEP_pcomp  DEP_pobj  DEP_poss  \\\n",
       "1779              0           0         0          0         0         0   \n",
       "\n",
       "      DEP_prep  DEP_relcl  DEP_xcomp  \n",
       "1779         0          0          0  \n",
       "\n",
       "[1 rows x 81 columns]"
      ]
     },
     "execution_count": 19,
     "metadata": {},
     "output_type": "execute_result"
    }
   ],
   "source": [
    "x_train.head(1)"
   ]
  },
  {
   "cell_type": "code",
   "execution_count": 20,
   "id": "312bdf13",
   "metadata": {
    "execution": {
     "iopub.execute_input": "2023-05-15T08:55:48.224181Z",
     "iopub.status.busy": "2023-05-15T08:55:48.223778Z",
     "iopub.status.idle": "2023-05-15T08:55:48.231840Z",
     "shell.execute_reply": "2023-05-15T08:55:48.230444Z"
    },
    "papermill": {
     "duration": 0.034935,
     "end_time": "2023-05-15T08:55:48.234370",
     "exception": false,
     "start_time": "2023-05-15T08:55:48.199435",
     "status": "completed"
    },
    "tags": []
   },
   "outputs": [
    {
     "data": {
      "text/plain": [
       "(7799, 81)"
      ]
     },
     "execution_count": 20,
     "metadata": {},
     "output_type": "execute_result"
    }
   ],
   "source": [
    "x_train.shape"
   ]
  },
  {
   "cell_type": "code",
   "execution_count": 21,
   "id": "4e69087f",
   "metadata": {
    "execution": {
     "iopub.execute_input": "2023-05-15T08:55:48.282667Z",
     "iopub.status.busy": "2023-05-15T08:55:48.282101Z",
     "iopub.status.idle": "2023-05-15T08:55:48.297509Z",
     "shell.execute_reply": "2023-05-15T08:55:48.296020Z"
    },
    "papermill": {
     "duration": 0.042755,
     "end_time": "2023-05-15T08:55:48.300411",
     "exception": false,
     "start_time": "2023-05-15T08:55:48.257656",
     "status": "completed"
    },
    "tags": []
   },
   "outputs": [],
   "source": [
    "x_train_2 = np.reshape(np.array(x_train),(x_train.shape[0], x_train.shape[1],-1))"
   ]
  },
  {
   "cell_type": "code",
   "execution_count": 22,
   "id": "d04a8aef",
   "metadata": {
    "execution": {
     "iopub.execute_input": "2023-05-15T08:55:48.349043Z",
     "iopub.status.busy": "2023-05-15T08:55:48.348472Z",
     "iopub.status.idle": "2023-05-15T08:55:48.356293Z",
     "shell.execute_reply": "2023-05-15T08:55:48.354897Z"
    },
    "papermill": {
     "duration": 0.036253,
     "end_time": "2023-05-15T08:55:48.359519",
     "exception": false,
     "start_time": "2023-05-15T08:55:48.323266",
     "status": "completed"
    },
    "tags": []
   },
   "outputs": [
    {
     "data": {
      "text/plain": [
       "(7799, 81, 1)"
      ]
     },
     "execution_count": 22,
     "metadata": {},
     "output_type": "execute_result"
    }
   ],
   "source": [
    "x_train_2.shape"
   ]
  },
  {
   "cell_type": "code",
   "execution_count": 23,
   "id": "53d1d562",
   "metadata": {
    "execution": {
     "iopub.execute_input": "2023-05-15T08:55:48.409223Z",
     "iopub.status.busy": "2023-05-15T08:55:48.408685Z",
     "iopub.status.idle": "2023-05-15T08:55:48.416074Z",
     "shell.execute_reply": "2023-05-15T08:55:48.415082Z"
    },
    "papermill": {
     "duration": 0.035538,
     "end_time": "2023-05-15T08:55:48.419010",
     "exception": false,
     "start_time": "2023-05-15T08:55:48.383472",
     "status": "completed"
    },
    "tags": []
   },
   "outputs": [
    {
     "data": {
      "text/plain": [
       "(81, 1)"
      ]
     },
     "execution_count": 23,
     "metadata": {},
     "output_type": "execute_result"
    }
   ],
   "source": [
    "x_train_2[1].shape"
   ]
  },
  {
   "cell_type": "code",
   "execution_count": 24,
   "id": "bd1cfb49",
   "metadata": {
    "execution": {
     "iopub.execute_input": "2023-05-15T08:55:48.467838Z",
     "iopub.status.busy": "2023-05-15T08:55:48.466716Z",
     "iopub.status.idle": "2023-05-15T08:55:48.476656Z",
     "shell.execute_reply": "2023-05-15T08:55:48.475351Z"
    },
    "papermill": {
     "duration": 0.036875,
     "end_time": "2023-05-15T08:55:48.479144",
     "exception": false,
     "start_time": "2023-05-15T08:55:48.442269",
     "status": "completed"
    },
    "tags": []
   },
   "outputs": [
    {
     "data": {
      "text/plain": [
       "1779    False\n",
       "8565    False\n",
       "4638    False\n",
       "3478    False\n",
       "6661    False\n",
       "        ...  \n",
       "456     False\n",
       "6017    False\n",
       "709     False\n",
       "8366    False\n",
       "1146    False\n",
       "Name: isAnswer, Length: 7799, dtype: bool"
      ]
     },
     "execution_count": 24,
     "metadata": {},
     "output_type": "execute_result"
    }
   ],
   "source": [
    "y_train"
   ]
  },
  {
   "cell_type": "code",
   "execution_count": 25,
   "id": "46653836",
   "metadata": {
    "execution": {
     "iopub.execute_input": "2023-05-15T08:55:48.527942Z",
     "iopub.status.busy": "2023-05-15T08:55:48.526953Z",
     "iopub.status.idle": "2023-05-15T08:55:48.534094Z",
     "shell.execute_reply": "2023-05-15T08:55:48.533029Z"
    },
    "papermill": {
     "duration": 0.03464,
     "end_time": "2023-05-15T08:55:48.536912",
     "exception": false,
     "start_time": "2023-05-15T08:55:48.502272",
     "status": "completed"
    },
    "tags": []
   },
   "outputs": [],
   "source": [
    "y_train_2 = y_train.astype(int)"
   ]
  },
  {
   "cell_type": "code",
   "execution_count": 26,
   "id": "6f2916c6",
   "metadata": {
    "execution": {
     "iopub.execute_input": "2023-05-15T08:55:48.585502Z",
     "iopub.status.busy": "2023-05-15T08:55:48.584996Z",
     "iopub.status.idle": "2023-05-15T08:55:48.593997Z",
     "shell.execute_reply": "2023-05-15T08:55:48.592959Z"
    },
    "papermill": {
     "duration": 0.036241,
     "end_time": "2023-05-15T08:55:48.596371",
     "exception": false,
     "start_time": "2023-05-15T08:55:48.560130",
     "status": "completed"
    },
    "tags": []
   },
   "outputs": [
    {
     "data": {
      "text/plain": [
       "array([0, 0, 0, ..., 0, 0, 0])"
      ]
     },
     "execution_count": 26,
     "metadata": {},
     "output_type": "execute_result"
    }
   ],
   "source": [
    "y_train_2= np.array(y_train_2)\n",
    "y_train_2"
   ]
  },
  {
   "cell_type": "code",
   "execution_count": 27,
   "id": "16e98e05",
   "metadata": {
    "execution": {
     "iopub.execute_input": "2023-05-15T08:55:48.646052Z",
     "iopub.status.busy": "2023-05-15T08:55:48.644399Z",
     "iopub.status.idle": "2023-05-15T08:55:48.653972Z",
     "shell.execute_reply": "2023-05-15T08:55:48.652438Z"
    },
    "papermill": {
     "duration": 0.037343,
     "end_time": "2023-05-15T08:55:48.656965",
     "exception": false,
     "start_time": "2023-05-15T08:55:48.619622",
     "status": "completed"
    },
    "tags": []
   },
   "outputs": [
    {
     "data": {
      "text/plain": [
       "7456"
      ]
     },
     "execution_count": 27,
     "metadata": {},
     "output_type": "execute_result"
    }
   ],
   "source": [
    "np.count_nonzero(y_train_2 == 0)"
   ]
  },
  {
   "cell_type": "code",
   "execution_count": 28,
   "id": "3e583b6c",
   "metadata": {
    "execution": {
     "iopub.execute_input": "2023-05-15T08:55:48.706461Z",
     "iopub.status.busy": "2023-05-15T08:55:48.706065Z",
     "iopub.status.idle": "2023-05-15T08:55:48.713266Z",
     "shell.execute_reply": "2023-05-15T08:55:48.712020Z"
    },
    "papermill": {
     "duration": 0.035233,
     "end_time": "2023-05-15T08:55:48.716053",
     "exception": false,
     "start_time": "2023-05-15T08:55:48.680820",
     "status": "completed"
    },
    "tags": []
   },
   "outputs": [
    {
     "data": {
      "text/plain": [
       "(7799,)"
      ]
     },
     "execution_count": 28,
     "metadata": {},
     "output_type": "execute_result"
    }
   ],
   "source": [
    "y_train_2.shape"
   ]
  },
  {
   "cell_type": "code",
   "execution_count": 29,
   "id": "c007eb49",
   "metadata": {
    "execution": {
     "iopub.execute_input": "2023-05-15T08:55:48.765977Z",
     "iopub.status.busy": "2023-05-15T08:55:48.765546Z",
     "iopub.status.idle": "2023-05-15T08:55:48.774349Z",
     "shell.execute_reply": "2023-05-15T08:55:48.773297Z"
    },
    "papermill": {
     "duration": 0.036873,
     "end_time": "2023-05-15T08:55:48.776922",
     "exception": false,
     "start_time": "2023-05-15T08:55:48.740049",
     "status": "completed"
    },
    "tags": []
   },
   "outputs": [
    {
     "data": {
      "text/plain": [
       "array([[1],\n",
       "       [0],\n",
       "       [1],\n",
       "       [0],\n",
       "       [0],\n",
       "       [0],\n",
       "       [0],\n",
       "       [0],\n",
       "       [0],\n",
       "       [0],\n",
       "       [0],\n",
       "       [0],\n",
       "       [0],\n",
       "       [0],\n",
       "       [0],\n",
       "       [0],\n",
       "       [0],\n",
       "       [0],\n",
       "       [0],\n",
       "       [0],\n",
       "       [0],\n",
       "       [0],\n",
       "       [0],\n",
       "       [0],\n",
       "       [0],\n",
       "       [0],\n",
       "       [0],\n",
       "       [0],\n",
       "       [0],\n",
       "       [0],\n",
       "       [0],\n",
       "       [0],\n",
       "       [0],\n",
       "       [0],\n",
       "       [0],\n",
       "       [0],\n",
       "       [0],\n",
       "       [0],\n",
       "       [0],\n",
       "       [0],\n",
       "       [0],\n",
       "       [0],\n",
       "       [0],\n",
       "       [0],\n",
       "       [0],\n",
       "       [0],\n",
       "       [0],\n",
       "       [0],\n",
       "       [0],\n",
       "       [0],\n",
       "       [0],\n",
       "       [0],\n",
       "       [0],\n",
       "       [0],\n",
       "       [0],\n",
       "       [0],\n",
       "       [0],\n",
       "       [0],\n",
       "       [0],\n",
       "       [0],\n",
       "       [0],\n",
       "       [0],\n",
       "       [0],\n",
       "       [0],\n",
       "       [0],\n",
       "       [0],\n",
       "       [0],\n",
       "       [0],\n",
       "       [0],\n",
       "       [0],\n",
       "       [0],\n",
       "       [0],\n",
       "       [0],\n",
       "       [0],\n",
       "       [0],\n",
       "       [0],\n",
       "       [0],\n",
       "       [0],\n",
       "       [0],\n",
       "       [0],\n",
       "       [0]])"
      ]
     },
     "execution_count": 29,
     "metadata": {},
     "output_type": "execute_result"
    }
   ],
   "source": [
    "x_train_2[1]"
   ]
  },
  {
   "cell_type": "code",
   "execution_count": 30,
   "id": "0b41eb3f",
   "metadata": {
    "execution": {
     "iopub.execute_input": "2023-05-15T08:55:48.827707Z",
     "iopub.status.busy": "2023-05-15T08:55:48.827175Z",
     "iopub.status.idle": "2023-05-15T08:55:49.014844Z",
     "shell.execute_reply": "2023-05-15T08:55:49.012710Z"
    },
    "papermill": {
     "duration": 0.217214,
     "end_time": "2023-05-15T08:55:49.018088",
     "exception": false,
     "start_time": "2023-05-15T08:55:48.800874",
     "status": "completed"
    },
    "tags": []
   },
   "outputs": [
    {
     "name": "stdout",
     "output_type": "stream",
     "text": [
      "Model: \"sequential\"\n",
      "_________________________________________________________________\n",
      "Layer (type)                 Output Shape              Param #   \n",
      "=================================================================\n",
      "dense (Dense)                (None, 81, 80)            160       \n",
      "_________________________________________________________________\n",
      "dense_1 (Dense)              (None, 81, 80)            6480      \n",
      "_________________________________________________________________\n",
      "dropout (Dropout)            (None, 81, 80)            0         \n",
      "_________________________________________________________________\n",
      "dense_2 (Dense)              (None, 81, 1)             81        \n",
      "=================================================================\n",
      "Total params: 6,721\n",
      "Trainable params: 6,721\n",
      "Non-trainable params: 0\n",
      "_________________________________________________________________\n"
     ]
    }
   ],
   "source": [
    "# modelNN = Sequential()\n",
    "\n",
    "# modelNN.add(LSTM(units = 60, activation = 'relu', return_sequences = True, input_shape = (x_train_2[1].shape)))\n",
    "# # modelNN.add(Dropout(0.2))\n",
    "\n",
    "# modelNN.add(LSTM(units = 120, activation = 'relu', return_sequences = True))\n",
    "# modelNN.add(Dropout(0.2))\n",
    "\n",
    "# modelNN.add(Dense(units = 1))\n",
    "\n",
    "modelNN = Sequential()\n",
    "\n",
    "modelNN.add(Dense(units = 80, activation = 'tanh', input_shape = (x_train_2[1].shape)))\n",
    "# modelNN.add(Dropout(0.2))\n",
    "\n",
    "modelNN.add(Dense(units = 80, activation = 'tanh'))\n",
    "modelNN.add(Dropout(0.2))\n",
    "\n",
    "modelNN.add(Dense(units = 1, activation = 'sigmoid'))\n",
    "\n",
    "modelNN.summary()"
   ]
  },
  {
   "cell_type": "code",
   "execution_count": 31,
   "id": "6d94cb7f",
   "metadata": {
    "execution": {
     "iopub.execute_input": "2023-05-15T08:55:49.070407Z",
     "iopub.status.busy": "2023-05-15T08:55:49.069934Z",
     "iopub.status.idle": "2023-05-15T08:55:49.089200Z",
     "shell.execute_reply": "2023-05-15T08:55:49.087443Z"
    },
    "papermill": {
     "duration": 0.05032,
     "end_time": "2023-05-15T08:55:49.093236",
     "exception": false,
     "start_time": "2023-05-15T08:55:49.042916",
     "status": "completed"
    },
    "tags": []
   },
   "outputs": [],
   "source": [
    "modelNN.compile(optimizer='adam', loss='mean_squared_error', metrics=['accuracy'])"
   ]
  },
  {
   "cell_type": "code",
   "execution_count": 32,
   "id": "f937ec13",
   "metadata": {
    "execution": {
     "iopub.execute_input": "2023-05-15T08:55:49.146854Z",
     "iopub.status.busy": "2023-05-15T08:55:49.146368Z",
     "iopub.status.idle": "2023-05-15T08:56:08.957925Z",
     "shell.execute_reply": "2023-05-15T08:56:08.956865Z"
    },
    "papermill": {
     "duration": 19.840689,
     "end_time": "2023-05-15T08:56:08.960455",
     "exception": false,
     "start_time": "2023-05-15T08:55:49.119766",
     "status": "completed"
    },
    "tags": []
   },
   "outputs": [
    {
     "name": "stdout",
     "output_type": "stream",
     "text": [
      "Epoch 1/10\n",
      "156/156 [==============================] - 3s 11ms/step - loss: 0.0665 - accuracy: 0.9555\n",
      "Epoch 2/10\n",
      "156/156 [==============================] - 2s 12ms/step - loss: 0.0421 - accuracy: 0.9560\n",
      "Epoch 3/10\n",
      "156/156 [==============================] - 2s 12ms/step - loss: 0.0422 - accuracy: 0.9560\n",
      "Epoch 4/10\n",
      "156/156 [==============================] - 2s 11ms/step - loss: 0.0422 - accuracy: 0.9560\n",
      "Epoch 5/10\n",
      "156/156 [==============================] - 2s 11ms/step - loss: 0.0422 - accuracy: 0.9560\n",
      "Epoch 6/10\n",
      "156/156 [==============================] - 2s 11ms/step - loss: 0.0422 - accuracy: 0.9560\n",
      "Epoch 7/10\n",
      "156/156 [==============================] - 2s 11ms/step - loss: 0.0421 - accuracy: 0.9560\n",
      "Epoch 8/10\n",
      "156/156 [==============================] - 3s 16ms/step - loss: 0.0421 - accuracy: 0.9560\n",
      "Epoch 9/10\n",
      "156/156 [==============================] - 2s 12ms/step - loss: 0.0421 - accuracy: 0.9560\n",
      "Epoch 10/10\n",
      "156/156 [==============================] - 2s 11ms/step - loss: 0.0421 - accuracy: 0.9560\n"
     ]
    },
    {
     "data": {
      "text/plain": [
       "<keras.callbacks.History at 0x78dd789d4d10>"
      ]
     },
     "execution_count": 32,
     "metadata": {},
     "output_type": "execute_result"
    }
   ],
   "source": [
    "modelNN.fit(x_train_2, y_train_2, epochs=10, batch_size = 50)"
   ]
  },
  {
   "cell_type": "code",
   "execution_count": 33,
   "id": "a7707ce8",
   "metadata": {
    "execution": {
     "iopub.execute_input": "2023-05-15T08:56:09.079154Z",
     "iopub.status.busy": "2023-05-15T08:56:09.077713Z",
     "iopub.status.idle": "2023-05-15T08:56:09.086185Z",
     "shell.execute_reply": "2023-05-15T08:56:09.084962Z"
    },
    "papermill": {
     "duration": 0.070501,
     "end_time": "2023-05-15T08:56:09.089253",
     "exception": false,
     "start_time": "2023-05-15T08:56:09.018752",
     "status": "completed"
    },
    "tags": []
   },
   "outputs": [],
   "source": [
    "x_test_2 = np.reshape(np.array(x_test),(x_test.shape[0], x_test.shape[1],-1))"
   ]
  },
  {
   "cell_type": "code",
   "execution_count": 34,
   "id": "2f4d8bb2",
   "metadata": {
    "execution": {
     "iopub.execute_input": "2023-05-15T08:56:09.206662Z",
     "iopub.status.busy": "2023-05-15T08:56:09.206166Z",
     "iopub.status.idle": "2023-05-15T08:56:09.214056Z",
     "shell.execute_reply": "2023-05-15T08:56:09.212842Z"
    },
    "papermill": {
     "duration": 0.071427,
     "end_time": "2023-05-15T08:56:09.216814",
     "exception": false,
     "start_time": "2023-05-15T08:56:09.145387",
     "status": "completed"
    },
    "tags": []
   },
   "outputs": [
    {
     "data": {
      "text/plain": [
       "(867, 81, 1)"
      ]
     },
     "execution_count": 34,
     "metadata": {},
     "output_type": "execute_result"
    }
   ],
   "source": [
    "x_test_2.shape"
   ]
  },
  {
   "cell_type": "code",
   "execution_count": 35,
   "id": "8121bec5",
   "metadata": {
    "execution": {
     "iopub.execute_input": "2023-05-15T08:56:09.331471Z",
     "iopub.status.busy": "2023-05-15T08:56:09.330934Z",
     "iopub.status.idle": "2023-05-15T08:56:09.668442Z",
     "shell.execute_reply": "2023-05-15T08:56:09.667153Z"
    },
    "papermill": {
     "duration": 0.398316,
     "end_time": "2023-05-15T08:56:09.671311",
     "exception": false,
     "start_time": "2023-05-15T08:56:09.272995",
     "status": "completed"
    },
    "tags": []
   },
   "outputs": [],
   "source": [
    "y_predicted_nn = modelNN.predict(x_test_2)"
   ]
  },
  {
   "cell_type": "code",
   "execution_count": 36,
   "id": "d5a14e7c",
   "metadata": {
    "execution": {
     "iopub.execute_input": "2023-05-15T08:56:09.783315Z",
     "iopub.status.busy": "2023-05-15T08:56:09.781967Z",
     "iopub.status.idle": "2023-05-15T08:56:09.790920Z",
     "shell.execute_reply": "2023-05-15T08:56:09.789540Z"
    },
    "papermill": {
     "duration": 0.068214,
     "end_time": "2023-05-15T08:56:09.793413",
     "exception": false,
     "start_time": "2023-05-15T08:56:09.725199",
     "status": "completed"
    },
    "tags": []
   },
   "outputs": [
    {
     "data": {
      "text/plain": [
       "(867, 81, 1)"
      ]
     },
     "execution_count": 36,
     "metadata": {},
     "output_type": "execute_result"
    }
   ],
   "source": [
    "y_predicted_nn.shape"
   ]
  },
  {
   "cell_type": "code",
   "execution_count": 37,
   "id": "a7b96191",
   "metadata": {
    "execution": {
     "iopub.execute_input": "2023-05-15T08:56:09.908376Z",
     "iopub.status.busy": "2023-05-15T08:56:09.907348Z",
     "iopub.status.idle": "2023-05-15T08:56:09.916310Z",
     "shell.execute_reply": "2023-05-15T08:56:09.915160Z"
    },
    "papermill": {
     "duration": 0.068765,
     "end_time": "2023-05-15T08:56:09.918895",
     "exception": false,
     "start_time": "2023-05-15T08:56:09.850130",
     "status": "completed"
    },
    "tags": []
   },
   "outputs": [
    {
     "data": {
      "text/plain": [
       "0.02910304"
      ]
     },
     "execution_count": 37,
     "metadata": {},
     "output_type": "execute_result"
    }
   ],
   "source": [
    "y_predicted_nn[0][0][0]"
   ]
  },
  {
   "cell_type": "code",
   "execution_count": 38,
   "id": "f1fe77ad",
   "metadata": {
    "execution": {
     "iopub.execute_input": "2023-05-15T08:56:10.034576Z",
     "iopub.status.busy": "2023-05-15T08:56:10.033772Z",
     "iopub.status.idle": "2023-05-15T08:56:10.044058Z",
     "shell.execute_reply": "2023-05-15T08:56:10.042671Z"
    },
    "papermill": {
     "duration": 0.071695,
     "end_time": "2023-05-15T08:56:10.046599",
     "exception": false,
     "start_time": "2023-05-15T08:56:09.974904",
     "status": "completed"
    },
    "tags": []
   },
   "outputs": [
    {
     "data": {
      "text/plain": [
       "867"
      ]
     },
     "execution_count": 38,
     "metadata": {},
     "output_type": "execute_result"
    }
   ],
   "source": [
    "y_predicted_nn_new= []\n",
    "for i in y_predicted_nn:\n",
    "    y_predicted_nn_new.append(i[0][0])\n",
    "    \n",
    "y_predicted_nn_new = np.array(y_predicted_nn_new)\n",
    "len(y_predicted_nn_new)"
   ]
  },
  {
   "cell_type": "code",
   "execution_count": 39,
   "id": "8ad2a9a1",
   "metadata": {
    "execution": {
     "iopub.execute_input": "2023-05-15T08:56:10.164045Z",
     "iopub.status.busy": "2023-05-15T08:56:10.163169Z",
     "iopub.status.idle": "2023-05-15T08:56:10.183594Z",
     "shell.execute_reply": "2023-05-15T08:56:10.181860Z"
    },
    "papermill": {
     "duration": 0.083775,
     "end_time": "2023-05-15T08:56:10.186818",
     "exception": false,
     "start_time": "2023-05-15T08:56:10.103043",
     "status": "completed"
    },
    "tags": []
   },
   "outputs": [
    {
     "data": {
      "text/plain": [
       "array([1.        , 1.        , 1.        , 1.        , 1.        ,\n",
       "       1.        , 1.        , 1.        , 1.        , 1.        ,\n",
       "       1.        , 1.        , 1.        , 1.        , 0.93841296,\n",
       "       0.93841296, 0.93841296, 1.        , 0.8741798 , 1.        ,\n",
       "       1.        , 1.        , 1.        , 1.        , 1.1243262 ,\n",
       "       1.        , 1.        , 1.        , 1.        , 1.        ,\n",
       "       1.        , 1.        , 0.93841296, 0.93841296, 1.        ,\n",
       "       1.        , 1.        , 0.93841296, 1.        , 1.        ,\n",
       "       1.        , 1.        , 1.        , 1.        , 0.93841296,\n",
       "       1.4048054 , 1.        , 0.93841296, 1.        , 1.        ,\n",
       "       1.        , 1.        , 1.        , 1.        , 0.93841296,\n",
       "       1.        , 0.93841296, 1.        , 1.        , 1.        ,\n",
       "       1.        , 1.        , 1.        , 1.        , 1.        ,\n",
       "       1.        , 1.        , 1.        , 1.        , 1.        ,\n",
       "       1.        , 1.        , 1.        , 1.1243262 , 1.        ,\n",
       "       1.        , 1.        , 1.        , 1.        , 1.        ,\n",
       "       1.        , 1.        , 1.        , 1.        , 1.        ,\n",
       "       1.        , 1.        , 1.        , 1.        , 1.        ,\n",
       "       1.        , 1.        , 1.        , 1.        , 1.        ,\n",
       "       1.        , 1.        , 1.        , 1.        , 1.        ,\n",
       "       1.        , 1.        , 0.93841296, 1.        , 1.        ,\n",
       "       1.1243262 , 1.        , 1.        , 0.93841296, 1.        ,\n",
       "       1.        , 1.        , 1.        , 1.        , 1.        ,\n",
       "       1.        , 0.8741798 , 1.        , 1.        , 1.        ,\n",
       "       1.        , 1.        , 1.        , 0.8741798 , 1.        ,\n",
       "       1.        , 1.        , 0.8741798 , 1.        , 1.        ,\n",
       "       1.        , 1.        , 1.        , 1.        , 1.        ,\n",
       "       1.        , 0.8741798 , 1.        , 0.93841296, 0.93841296,\n",
       "       1.        , 1.        , 0.93841296, 0.93841296, 1.        ,\n",
       "       1.        , 1.        , 1.        , 1.        , 1.        ,\n",
       "       1.        , 1.        , 1.        , 1.        , 1.1243262 ,\n",
       "       1.        , 0.8741798 , 1.        , 1.        , 1.        ,\n",
       "       1.        , 1.        , 1.        , 1.        , 1.        ,\n",
       "       1.        , 1.        , 1.        , 1.        , 1.        ,\n",
       "       1.        , 1.        , 1.        , 1.        , 1.        ,\n",
       "       1.        , 1.        , 1.        , 1.        , 0.8741798 ,\n",
       "       1.        , 1.        , 1.        , 1.        , 1.        ,\n",
       "       1.        , 1.        , 0.93841296, 1.        , 1.        ,\n",
       "       1.        , 1.        , 1.        , 1.        , 1.        ,\n",
       "       1.        , 1.        , 1.        , 1.        , 1.        ,\n",
       "       1.        , 1.        , 1.        , 1.        , 1.        ,\n",
       "       1.        , 1.        , 1.        , 1.        , 1.        ,\n",
       "       2.6285698 , 0.93841296, 1.        , 1.        , 0.8741798 ,\n",
       "       1.        , 1.        , 1.        , 1.        , 1.        ,\n",
       "       1.        , 1.        , 0.93841296, 1.        , 1.        ,\n",
       "       1.        , 1.        , 1.        , 1.        , 1.        ,\n",
       "       1.        , 1.4048054 , 1.        , 0.8741798 , 1.        ,\n",
       "       0.8741798 , 1.        , 1.        , 1.        , 1.        ,\n",
       "       1.        , 1.        , 1.        , 1.1243262 , 1.        ,\n",
       "       0.8741798 , 1.        , 1.        , 1.        , 1.        ,\n",
       "       1.        , 1.        , 1.        , 1.        , 1.        ,\n",
       "       1.        , 1.        , 1.        , 1.1243262 , 1.        ,\n",
       "       1.        , 1.        , 1.        , 1.        , 1.        ,\n",
       "       1.        , 1.        , 1.        , 1.        , 1.        ,\n",
       "       1.        , 1.        , 1.        , 1.        , 1.        ,\n",
       "       1.        , 1.        , 0.8741798 , 1.        , 1.        ,\n",
       "       1.        , 1.        , 1.        , 1.        , 1.        ,\n",
       "       1.        , 0.93841296, 1.        , 1.        , 1.        ,\n",
       "       1.        , 1.7617139 , 1.        , 1.        , 0.93841296,\n",
       "       1.        , 1.        , 1.        , 1.        , 0.8741798 ,\n",
       "       1.        , 1.        , 1.1243262 , 1.        , 1.4048054 ,\n",
       "       1.        , 0.93841296, 1.        , 1.        , 1.        ,\n",
       "       1.7617139 , 1.        , 1.        , 0.8741798 , 1.        ,\n",
       "       1.        , 1.        , 0.93841296, 0.8741798 , 1.        ,\n",
       "       1.        , 1.        , 1.        , 1.        , 1.        ,\n",
       "       1.        , 1.        , 1.        , 1.        , 1.        ,\n",
       "       1.        , 1.        , 1.        , 1.        , 1.        ,\n",
       "       0.93841296, 1.        , 1.        , 1.        , 1.        ,\n",
       "       1.        , 1.        , 1.        , 1.        , 1.        ,\n",
       "       1.        , 0.93841296, 1.        , 1.        , 1.        ,\n",
       "       1.        , 1.        , 1.4048054 , 1.        , 1.        ,\n",
       "       0.8741798 , 1.        , 1.        , 1.        , 1.        ,\n",
       "       1.        , 1.        , 1.        , 0.8741798 , 1.        ,\n",
       "       1.        , 1.        , 0.8741798 , 1.        , 1.        ,\n",
       "       1.        , 0.93841296, 1.        , 1.        , 1.        ,\n",
       "       1.        , 1.        , 1.        , 1.        , 1.        ,\n",
       "       1.        , 1.        , 1.        , 0.93841296, 1.        ,\n",
       "       1.        , 1.        , 1.        , 1.        , 1.        ,\n",
       "       1.        , 1.        , 1.        , 1.        , 1.        ,\n",
       "       0.8741798 , 1.        , 1.        , 0.93841296, 1.        ,\n",
       "       1.        , 1.        , 1.        , 1.        , 1.        ,\n",
       "       1.        , 0.93841296, 0.8741798 , 1.        , 1.        ,\n",
       "       1.        , 1.        , 1.        , 1.        , 1.        ,\n",
       "       1.        , 1.        , 1.        , 1.        , 1.        ,\n",
       "       1.        , 1.        , 1.        , 0.93841296, 1.        ,\n",
       "       1.        , 1.        , 1.        , 1.        , 1.        ,\n",
       "       1.        , 1.        , 1.        , 1.        , 1.        ,\n",
       "       1.        , 1.        , 1.        , 1.        , 1.        ,\n",
       "       1.        , 1.        , 1.        , 1.        , 1.        ,\n",
       "       1.        , 1.        , 1.        , 1.4048054 , 1.        ,\n",
       "       1.        , 1.        , 1.        , 1.        , 1.        ,\n",
       "       1.        , 1.        , 1.        , 1.        , 1.        ,\n",
       "       1.        , 1.        , 1.        , 1.        , 1.        ,\n",
       "       1.        , 0.8741798 , 1.        , 1.1243262 , 1.        ,\n",
       "       1.        , 1.        , 1.        , 1.        , 0.93841296,\n",
       "       1.        , 1.        , 1.        , 1.        , 1.        ,\n",
       "       1.        , 1.        , 1.        , 1.        , 1.        ,\n",
       "       1.        , 1.        , 1.        , 1.        , 1.        ,\n",
       "       1.        , 1.        , 1.        , 1.        , 1.        ,\n",
       "       1.        , 1.        , 1.        , 1.        , 1.        ,\n",
       "       1.        , 1.        , 1.        , 1.        , 1.        ,\n",
       "       1.        , 1.        , 1.        , 1.        , 1.        ,\n",
       "       1.1243262 , 1.        , 1.        , 1.        , 1.        ,\n",
       "       1.        , 1.        , 1.        , 1.        , 1.        ,\n",
       "       1.        , 0.8741798 , 1.        , 1.        , 1.        ,\n",
       "       1.        , 1.        , 1.        , 1.        , 1.        ,\n",
       "       0.8741798 , 1.        , 1.        , 1.        , 1.1243262 ,\n",
       "       1.        , 1.        , 1.        , 1.        , 1.        ,\n",
       "       1.        , 1.        , 1.        , 1.        , 1.        ,\n",
       "       1.        , 1.        , 1.        , 0.93841296, 1.        ,\n",
       "       1.        , 1.        , 1.        , 0.8741798 , 1.        ,\n",
       "       1.        , 1.        , 1.        , 1.        , 1.        ,\n",
       "       1.        , 1.        , 1.        , 1.        , 1.        ,\n",
       "       0.8741798 , 1.        , 1.        , 1.        , 1.        ,\n",
       "       1.        , 0.93841296, 1.        , 1.        , 1.1243262 ,\n",
       "       1.        , 1.        , 0.93841296, 1.        , 1.        ,\n",
       "       1.        , 1.        , 0.8741798 , 1.        , 0.8741798 ,\n",
       "       1.        , 1.        , 1.        , 0.8741798 , 1.        ,\n",
       "       1.1243262 , 1.        , 1.        , 1.        , 1.        ,\n",
       "       1.        , 0.93841296, 1.        , 1.        , 1.        ,\n",
       "       1.        , 0.8741798 , 1.        , 1.        , 1.        ,\n",
       "       1.        , 1.        , 1.        , 1.        , 1.        ,\n",
       "       1.        , 1.        , 1.        , 1.        , 1.        ,\n",
       "       1.        , 1.        , 1.        , 1.        , 1.        ,\n",
       "       1.        , 1.        , 1.        , 1.1243262 , 1.        ,\n",
       "       0.8741798 , 1.        , 0.8741798 , 1.        , 1.        ,\n",
       "       1.        , 1.        , 1.        , 1.        , 1.        ,\n",
       "       1.        , 1.        , 1.        , 1.        , 1.        ,\n",
       "       1.        , 1.        , 1.        , 1.        , 1.        ,\n",
       "       1.        , 1.        , 1.        , 1.        , 1.        ,\n",
       "       1.        , 1.        , 1.        , 1.        , 1.        ,\n",
       "       1.        , 1.        , 1.        , 1.        , 1.        ,\n",
       "       1.        , 1.        , 1.        , 1.        , 1.        ,\n",
       "       1.        , 1.        , 1.        , 1.        , 1.        ,\n",
       "       0.8741798 , 1.        , 1.        , 0.8741798 , 1.        ,\n",
       "       1.        , 1.        , 1.        , 1.        , 1.        ,\n",
       "       1.        , 1.        , 1.        , 1.        , 1.        ,\n",
       "       1.1243262 , 0.93841296, 1.        , 1.7617139 , 1.        ,\n",
       "       1.        , 0.8741798 , 1.        , 1.        , 1.        ,\n",
       "       1.        , 1.        , 1.        , 1.        , 1.        ,\n",
       "       1.        , 1.        , 1.        , 1.        , 1.        ,\n",
       "       1.        , 0.8741798 , 0.8741798 , 1.        , 1.        ,\n",
       "       1.        , 1.        , 1.        , 1.        , 1.        ,\n",
       "       1.        , 1.        , 1.        , 1.        , 1.        ,\n",
       "       1.        , 1.        , 1.        , 1.        , 1.        ,\n",
       "       1.        , 1.        , 1.        , 1.        , 1.        ,\n",
       "       1.        , 1.        , 1.1243262 , 1.        , 1.        ,\n",
       "       0.8741798 , 1.        , 1.        , 1.        , 1.        ,\n",
       "       1.        , 1.        , 1.        , 1.        , 1.        ,\n",
       "       1.        , 0.8741798 , 0.8741798 , 1.        , 1.        ,\n",
       "       1.        , 1.        , 1.        , 1.        , 1.        ,\n",
       "       0.8741798 , 0.93841296, 1.        , 1.        , 1.        ,\n",
       "       0.8741798 , 0.93841296, 1.        , 1.        , 1.        ,\n",
       "       1.        , 1.        , 1.1243262 , 1.        , 0.8741798 ,\n",
       "       1.        , 1.        , 1.        , 1.        , 1.        ,\n",
       "       1.        , 1.        , 1.        , 1.        , 1.        ,\n",
       "       0.93841296, 1.        , 1.        , 1.        , 1.        ,\n",
       "       1.        , 1.        , 1.        , 1.        , 1.        ,\n",
       "       1.        , 1.        , 1.        , 1.        , 1.        ,\n",
       "       0.93841296, 1.        , 1.        , 1.        , 1.        ,\n",
       "       1.        , 1.        , 1.        , 1.        , 1.        ,\n",
       "       1.        , 1.        , 1.        , 0.93841296, 1.        ,\n",
       "       0.93841296, 1.        , 1.        , 1.        , 0.93841296,\n",
       "       1.        , 1.        , 1.        , 1.        , 1.        ,\n",
       "       1.        , 1.        , 1.        , 1.        , 1.        ,\n",
       "       1.        , 1.        , 1.        , 1.        , 1.        ,\n",
       "       1.        , 1.        , 1.        , 1.        , 0.93841296,\n",
       "       1.        , 1.        , 1.        , 1.        , 1.        ,\n",
       "       1.        , 1.        , 1.        , 1.1243262 , 0.8741798 ,\n",
       "       1.        , 1.        , 1.        , 0.93841296, 1.        ,\n",
       "       1.        , 1.        , 1.        , 1.        , 1.        ,\n",
       "       1.        , 1.        , 1.        , 1.        , 1.        ,\n",
       "       1.        , 1.        , 1.        , 1.        , 1.        ,\n",
       "       0.93841296, 1.        ], dtype=float32)"
      ]
     },
     "execution_count": 39,
     "metadata": {},
     "output_type": "execute_result"
    }
   ],
   "source": [
    "scale = 1/y_predicted_nn_new[0]\n",
    "y_predicted_nn_new *scale"
   ]
  },
  {
   "cell_type": "code",
   "execution_count": 40,
   "id": "d0f15ecd",
   "metadata": {
    "execution": {
     "iopub.execute_input": "2023-05-15T08:56:10.300444Z",
     "iopub.status.busy": "2023-05-15T08:56:10.300009Z",
     "iopub.status.idle": "2023-05-15T08:56:10.313810Z",
     "shell.execute_reply": "2023-05-15T08:56:10.312241Z"
    },
    "papermill": {
     "duration": 0.074859,
     "end_time": "2023-05-15T08:56:10.316850",
     "exception": false,
     "start_time": "2023-05-15T08:56:10.241991",
     "status": "completed"
    },
    "tags": []
   },
   "outputs": [
    {
     "name": "stderr",
     "output_type": "stream",
     "text": [
      "/opt/conda/lib/python3.7/site-packages/ipykernel_launcher.py:1: DeprecationWarning: `np.bool` is a deprecated alias for the builtin `bool`. To silence this warning, use `bool` by itself. Doing this will not modify any behavior and is safe. If you specifically wanted the numpy scalar type, use `np.bool_` here.\n",
      "Deprecated in NumPy 1.20; for more details and guidance: https://numpy.org/devdocs/release/1.20.0-notes.html#deprecations\n",
      "  \"\"\"Entry point for launching an IPython kernel.\n"
     ]
    },
    {
     "data": {
      "text/plain": [
       "array([False, False, False, False, False, False, False, False, False,\n",
       "       False, False, False, False, False,  True,  True,  True, False,\n",
       "        True, False, False, False, False, False,  True, False, False,\n",
       "       False, False, False, False, False,  True,  True, False, False,\n",
       "       False,  True, False, False, False, False, False, False,  True,\n",
       "        True, False,  True, False, False, False, False, False, False,\n",
       "        True, False,  True, False, False, False, False, False, False,\n",
       "       False, False, False, False, False, False, False, False, False,\n",
       "       False,  True, False, False, False, False, False, False, False,\n",
       "       False, False, False, False, False, False, False, False, False,\n",
       "       False, False, False, False, False, False, False, False, False,\n",
       "       False, False, False,  True, False, False,  True, False, False,\n",
       "        True, False, False, False, False, False, False, False,  True,\n",
       "       False, False, False, False, False, False,  True, False, False,\n",
       "       False,  True, False, False, False, False, False, False, False,\n",
       "       False,  True, False,  True,  True, False, False,  True,  True,\n",
       "       False, False, False, False, False, False, False, False, False,\n",
       "       False,  True, False,  True, False, False, False, False, False,\n",
       "       False, False, False, False, False, False, False, False, False,\n",
       "       False, False, False, False, False, False, False, False,  True,\n",
       "       False, False, False, False, False, False, False,  True, False,\n",
       "       False, False, False, False, False, False, False, False, False,\n",
       "       False, False, False, False, False, False, False, False, False,\n",
       "       False, False, False,  True,  True, False, False,  True, False,\n",
       "       False, False, False, False, False, False,  True, False, False,\n",
       "       False, False, False, False, False, False,  True, False,  True,\n",
       "       False,  True, False, False, False, False, False, False, False,\n",
       "        True, False,  True, False, False, False, False, False, False,\n",
       "       False, False, False, False, False, False,  True, False, False,\n",
       "       False, False, False, False, False, False, False, False, False,\n",
       "       False, False, False, False, False, False, False,  True, False,\n",
       "       False, False, False, False, False, False, False,  True, False,\n",
       "       False, False, False,  True, False, False,  True, False, False,\n",
       "       False, False,  True, False, False,  True, False,  True, False,\n",
       "        True, False, False, False,  True, False, False,  True, False,\n",
       "       False, False,  True,  True, False, False, False, False, False,\n",
       "       False, False, False, False, False, False, False, False, False,\n",
       "       False, False,  True, False, False, False, False, False, False,\n",
       "       False, False, False, False,  True, False, False, False, False,\n",
       "       False,  True, False, False,  True, False, False, False, False,\n",
       "       False, False, False,  True, False, False, False,  True, False,\n",
       "       False, False,  True, False, False, False, False, False, False,\n",
       "       False, False, False, False, False,  True, False, False, False,\n",
       "       False, False, False, False, False, False, False, False,  True,\n",
       "       False, False,  True, False, False, False, False, False, False,\n",
       "       False,  True,  True, False, False, False, False, False, False,\n",
       "       False, False, False, False, False, False, False, False, False,\n",
       "        True, False, False, False, False, False, False, False, False,\n",
       "       False, False, False, False, False, False, False, False, False,\n",
       "       False, False, False, False, False, False, False,  True, False,\n",
       "       False, False, False, False, False, False, False, False, False,\n",
       "       False, False, False, False, False, False, False,  True, False,\n",
       "        True, False, False, False, False, False,  True, False, False,\n",
       "       False, False, False, False, False, False, False, False, False,\n",
       "       False, False, False, False, False, False, False, False, False,\n",
       "       False, False, False, False, False, False, False, False, False,\n",
       "       False, False, False, False, False, False,  True, False, False,\n",
       "       False, False, False, False, False, False, False, False,  True,\n",
       "       False, False, False, False, False, False, False, False,  True,\n",
       "       False, False, False,  True, False, False, False, False, False,\n",
       "       False, False, False, False, False, False, False, False,  True,\n",
       "       False, False, False, False,  True, False, False, False, False,\n",
       "       False, False, False, False, False, False, False,  True, False,\n",
       "       False, False, False, False,  True, False, False,  True, False,\n",
       "       False,  True, False, False, False, False,  True, False,  True,\n",
       "       False, False, False,  True, False,  True, False, False, False,\n",
       "       False, False,  True, False, False, False, False,  True, False,\n",
       "       False, False, False, False, False, False, False, False, False,\n",
       "       False, False, False, False, False, False, False, False, False,\n",
       "       False, False,  True, False,  True, False,  True, False, False,\n",
       "       False, False, False, False, False, False, False, False, False,\n",
       "       False, False, False, False, False, False, False, False, False,\n",
       "       False, False, False, False, False, False, False, False, False,\n",
       "       False, False, False, False, False, False, False, False, False,\n",
       "       False, False, False, False,  True, False, False,  True, False,\n",
       "       False, False, False, False, False, False, False, False, False,\n",
       "       False,  True,  True, False,  True, False, False,  True, False,\n",
       "       False, False, False, False, False, False, False, False, False,\n",
       "       False, False, False, False,  True,  True, False, False, False,\n",
       "       False, False, False, False, False, False, False, False, False,\n",
       "       False, False, False, False, False, False, False, False, False,\n",
       "       False, False, False,  True, False, False,  True, False, False,\n",
       "       False, False, False, False, False, False, False, False,  True,\n",
       "        True, False, False, False, False, False, False, False,  True,\n",
       "        True, False, False, False,  True,  True, False, False, False,\n",
       "       False, False,  True, False,  True, False, False, False, False,\n",
       "       False, False, False, False, False, False,  True, False, False,\n",
       "       False, False, False, False, False, False, False, False, False,\n",
       "       False, False, False,  True, False, False, False, False, False,\n",
       "       False, False, False, False, False, False, False,  True, False,\n",
       "        True, False, False, False,  True, False, False, False, False,\n",
       "       False, False, False, False, False, False, False, False, False,\n",
       "       False, False, False, False, False, False,  True, False, False,\n",
       "       False, False, False, False, False, False,  True,  True, False,\n",
       "       False, False,  True, False, False, False, False, False, False,\n",
       "       False, False, False, False, False, False, False, False, False,\n",
       "       False,  True, False])"
      ]
     },
     "execution_count": 40,
     "metadata": {},
     "output_type": "execute_result"
    }
   ],
   "source": [
    "y_predicted_nn_new_2 = np.where(y_predicted_nn_new != y_predicted_nn_new[0], 1, 0).astype(np.bool)\n",
    "y_predicted_nn_new_2"
   ]
  },
  {
   "cell_type": "code",
   "execution_count": 41,
   "id": "66187477",
   "metadata": {
    "execution": {
     "iopub.execute_input": "2023-05-15T08:56:10.431807Z",
     "iopub.status.busy": "2023-05-15T08:56:10.430342Z",
     "iopub.status.idle": "2023-05-15T08:56:10.440588Z",
     "shell.execute_reply": "2023-05-15T08:56:10.439597Z"
    },
    "papermill": {
     "duration": 0.070622,
     "end_time": "2023-05-15T08:56:10.443400",
     "exception": false,
     "start_time": "2023-05-15T08:56:10.372778",
     "status": "completed"
    },
    "tags": []
   },
   "outputs": [
    {
     "data": {
      "text/plain": [
       "43      False\n",
       "2412    False\n",
       "3791    False\n",
       "29      False\n",
       "8663    False\n",
       "1034    False\n",
       "3502    False\n",
       "1271    False\n",
       "2300    False\n",
       "7933    False\n",
       "640     False\n",
       "3788    False\n",
       "8334    False\n",
       "1425    False\n",
       "3787    False\n",
       "1684    False\n",
       "1131    False\n",
       "6281    False\n",
       "7399     True\n",
       "1604    False\n",
       "8443    False\n",
       "1509    False\n",
       "7375    False\n",
       "2185    False\n",
       "1295     True\n",
       "Name: isAnswer, dtype: bool"
      ]
     },
     "execution_count": 41,
     "metadata": {},
     "output_type": "execute_result"
    }
   ],
   "source": [
    "y_test_2 = y_test.astype(int)\n",
    "y_test_2= np.array(y_test_2)\n",
    "y_test.head(25)"
   ]
  },
  {
   "cell_type": "code",
   "execution_count": 42,
   "id": "1afc9f88",
   "metadata": {
    "execution": {
     "iopub.execute_input": "2023-05-15T08:56:10.563164Z",
     "iopub.status.busy": "2023-05-15T08:56:10.562724Z",
     "iopub.status.idle": "2023-05-15T08:56:10.569310Z",
     "shell.execute_reply": "2023-05-15T08:56:10.568475Z"
    },
    "papermill": {
     "duration": 0.071753,
     "end_time": "2023-05-15T08:56:10.572531",
     "exception": false,
     "start_time": "2023-05-15T08:56:10.500778",
     "status": "completed"
    },
    "tags": []
   },
   "outputs": [
    {
     "name": "stdout",
     "output_type": "stream",
     "text": [
      "Correctly guessed: 87.08%\n"
     ]
    }
   ],
   "source": [
    "correctCount = (y_test == y_predicted_nn_new_2).sum()\n",
    "\n",
    "print('Correctly guessed:', '{:.2f}%'.format((correctCount / len(y_test)) * 100))"
   ]
  },
  {
   "cell_type": "markdown",
   "id": "b312a4a7",
   "metadata": {
    "papermill": {
     "duration": 0.058021,
     "end_time": "2023-05-15T08:56:10.688298",
     "exception": false,
     "start_time": "2023-05-15T08:56:10.630277",
     "status": "completed"
    },
    "tags": []
   },
   "source": [
    "### Confusion matrix"
   ]
  },
  {
   "cell_type": "code",
   "execution_count": 43,
   "id": "b33c86fa",
   "metadata": {
    "execution": {
     "iopub.execute_input": "2023-05-15T08:56:10.807254Z",
     "iopub.status.busy": "2023-05-15T08:56:10.806771Z",
     "iopub.status.idle": "2023-05-15T08:56:10.816318Z",
     "shell.execute_reply": "2023-05-15T08:56:10.815252Z"
    },
    "papermill": {
     "duration": 0.073934,
     "end_time": "2023-05-15T08:56:10.818790",
     "exception": false,
     "start_time": "2023-05-15T08:56:10.744856",
     "status": "completed"
    },
    "tags": []
   },
   "outputs": [
    {
     "data": {
      "text/plain": [
       "array([[737,  97],\n",
       "       [ 15,  18]])"
      ]
     },
     "execution_count": 43,
     "metadata": {},
     "output_type": "execute_result"
    }
   ],
   "source": [
    "from sklearn.metrics import confusion_matrix\n",
    "\n",
    "confusion_matrix(y_test, y_predicted_nn_new_2)"
   ]
  },
  {
   "cell_type": "markdown",
   "id": "0b568507",
   "metadata": {
    "papermill": {
     "duration": 0.056366,
     "end_time": "2023-05-15T08:56:10.934238",
     "exception": false,
     "start_time": "2023-05-15T08:56:10.877872",
     "status": "completed"
    },
    "tags": []
   },
   "source": [
    "### Prettier confusion matrix"
   ]
  },
  {
   "cell_type": "code",
   "execution_count": 44,
   "id": "0143382b",
   "metadata": {
    "execution": {
     "iopub.execute_input": "2023-05-15T08:56:11.049793Z",
     "iopub.status.busy": "2023-05-15T08:56:11.049286Z",
     "iopub.status.idle": "2023-05-15T08:56:11.063078Z",
     "shell.execute_reply": "2023-05-15T08:56:11.061787Z"
    },
    "papermill": {
     "duration": 0.075401,
     "end_time": "2023-05-15T08:56:11.066156",
     "exception": false,
     "start_time": "2023-05-15T08:56:10.990755",
     "status": "completed"
    },
    "tags": []
   },
   "outputs": [],
   "source": [
    "import itertools\n",
    "import matplotlib.pyplot as plt\n",
    "\n",
    "def plot_confusion_matrix(y_true, y_predicted_nn_new_2, classes,\n",
    "                          normalize=False,\n",
    "                          title='Confusion matrix',\n",
    "                          cmap=plt.cm.Blues,\n",
    "                          figsize=(9, 7)):\n",
    "    matrix = confusion_matrix(y_true, y_predicted_nn_new_2)\n",
    "\n",
    "    if normalize:\n",
    "        matrix = matrix.astype('float') / matrix.sum(axis=1)[:, np.newaxis]\n",
    "\n",
    "    plt.figure(figsize=figsize)\n",
    "    plt.imshow(matrix, interpolation='nearest', cmap=cmap)\n",
    "    plt.title(title)\n",
    "    plt.colorbar()\n",
    "\n",
    "    tick_marks = np.arange(len(classes))\n",
    "    plt.xticks(tick_marks, classes, rotation=45)\n",
    "    plt.yticks(tick_marks, classes)\n",
    "\n",
    "    fmt = '.2f' if normalize else 'd'\n",
    "    thresh = matrix.max() / 2.\n",
    "    for i, j in itertools.product(range(matrix.shape[0]), range(matrix.shape[1])):\n",
    "        plt.text(j, i, format(matrix[i, j], fmt),\n",
    "                 horizontalalignment=\"center\",\n",
    "                 size=int((figsize[0] / 10) * 38),\n",
    "                 color=\"white\" if matrix[i, j] > thresh else \"black\")\n",
    "\n",
    "    plt.tight_layout()\n",
    "    plt.ylabel('True label')\n",
    "    plt.xlabel('Predicted label')"
   ]
  },
  {
   "cell_type": "code",
   "execution_count": 45,
   "id": "1ae42444",
   "metadata": {
    "execution": {
     "iopub.execute_input": "2023-05-15T08:56:11.180460Z",
     "iopub.status.busy": "2023-05-15T08:56:11.179958Z",
     "iopub.status.idle": "2023-05-15T08:56:11.186041Z",
     "shell.execute_reply": "2023-05-15T08:56:11.184630Z"
    },
    "papermill": {
     "duration": 0.065885,
     "end_time": "2023-05-15T08:56:11.188443",
     "exception": false,
     "start_time": "2023-05-15T08:56:11.122558",
     "status": "completed"
    },
    "tags": []
   },
   "outputs": [],
   "source": [
    "# !pip install matplotlib"
   ]
  },
  {
   "cell_type": "code",
   "execution_count": 46,
   "id": "c05600e3",
   "metadata": {
    "execution": {
     "iopub.execute_input": "2023-05-15T08:56:11.308004Z",
     "iopub.status.busy": "2023-05-15T08:56:11.307428Z",
     "iopub.status.idle": "2023-05-15T08:56:11.682151Z",
     "shell.execute_reply": "2023-05-15T08:56:11.680740Z"
    },
    "papermill": {
     "duration": 0.43764,
     "end_time": "2023-05-15T08:56:11.685382",
     "exception": false,
     "start_time": "2023-05-15T08:56:11.247742",
     "status": "completed"
    },
    "tags": []
   },
   "outputs": [
    {
     "data": {
      "image/png": "[encoded data removed]",
      "text/plain": [
       "<Figure size 360x288 with 2 Axes>"
      ]
     },
     "metadata": {
      "needs_background": "light"
     },
     "output_type": "display_data"
    }
   ],
   "source": [
    "plot_confusion_matrix(y_test, y_predicted_nn_new_2, ['not correct answer', 'correct answer'], figsize=(5, 4))"
   ]
  },
  {
   "cell_type": "code",
   "execution_count": 47,
   "id": "168eb0ba",
   "metadata": {
    "execution": {
     "iopub.execute_input": "2023-05-15T08:56:11.804032Z",
     "iopub.status.busy": "2023-05-15T08:56:11.803281Z",
     "iopub.status.idle": "2023-05-15T08:56:11.813675Z",
     "shell.execute_reply": "2023-05-15T08:56:11.812361Z"
    },
    "papermill": {
     "duration": 0.073826,
     "end_time": "2023-05-15T08:56:11.816532",
     "exception": false,
     "start_time": "2023-05-15T08:56:11.742706",
     "status": "completed"
    },
    "tags": []
   },
   "outputs": [
    {
     "data": {
      "text/plain": [
       "False    834\n",
       "True      33\n",
       "Name: isAnswer, dtype: int64"
      ]
     },
     "execution_count": 47,
     "metadata": {},
     "output_type": "execute_result"
    }
   ],
   "source": [
    "y_test.value_counts()"
   ]
  },
  {
   "cell_type": "code",
   "execution_count": 48,
   "id": "d3907343",
   "metadata": {
    "execution": {
     "iopub.execute_input": "2023-05-15T08:56:11.933703Z",
     "iopub.status.busy": "2023-05-15T08:56:11.933231Z",
     "iopub.status.idle": "2023-05-15T08:56:11.939841Z",
     "shell.execute_reply": "2023-05-15T08:56:11.938199Z"
    },
    "papermill": {
     "duration": 0.068535,
     "end_time": "2023-05-15T08:56:11.942684",
     "exception": false,
     "start_time": "2023-05-15T08:56:11.874149",
     "status": "completed"
    },
    "tags": []
   },
   "outputs": [],
   "source": [
    "y_pred_Series = pd.Series(y_predicted_nn_new_2)"
   ]
  },
  {
   "cell_type": "code",
   "execution_count": 49,
   "id": "c2221ea9",
   "metadata": {
    "execution": {
     "iopub.execute_input": "2023-05-15T08:56:12.062920Z",
     "iopub.status.busy": "2023-05-15T08:56:12.062457Z",
     "iopub.status.idle": "2023-05-15T08:56:12.073022Z",
     "shell.execute_reply": "2023-05-15T08:56:12.071699Z"
    },
    "papermill": {
     "duration": 0.073751,
     "end_time": "2023-05-15T08:56:12.075773",
     "exception": false,
     "start_time": "2023-05-15T08:56:12.002022",
     "status": "completed"
    },
    "tags": []
   },
   "outputs": [
    {
     "data": {
      "text/plain": [
       "False    752\n",
       "True     115\n",
       "dtype: int64"
      ]
     },
     "execution_count": 49,
     "metadata": {},
     "output_type": "execute_result"
    }
   ],
   "source": [
    "y_pred_Series.value_counts()"
   ]
  },
  {
   "cell_type": "markdown",
   "id": "b287a922",
   "metadata": {
    "papermill": {
     "duration": 0.059825,
     "end_time": "2023-05-15T08:56:12.195872",
     "exception": false,
     "start_time": "2023-05-15T08:56:12.136047",
     "status": "completed"
    },
    "tags": []
   },
   "source": [
    "Seems like I'm super biased for towards correct answers. But as I found during the *Data exploration*, there are a lot more answer-worthy words that are just not labeled since, I guess the Mechanical Turks had the job to label just 5. So, who knows, maybe I did some black magic and managed to extract all the answer worthy words!"
   ]
  },
  {
   "cell_type": "markdown",
   "id": "39f61031",
   "metadata": {
    "papermill": {
     "duration": 0.057639,
     "end_time": "2023-05-15T08:56:12.312297",
     "exception": false,
     "start_time": "2023-05-15T08:56:12.254658",
     "status": "completed"
    },
    "tags": []
   },
   "source": [
    "## Saving the model\n",
    "We'll save our predictor, so we can use it to label new words."
   ]
  },
  {
   "cell_type": "code",
   "execution_count": 50,
   "id": "9eb965f1",
   "metadata": {
    "execution": {
     "iopub.execute_input": "2023-05-15T08:56:12.433598Z",
     "iopub.status.busy": "2023-05-15T08:56:12.433145Z",
     "iopub.status.idle": "2023-05-15T08:56:12.438871Z",
     "shell.execute_reply": "2023-05-15T08:56:12.437554Z"
    },
    "papermill": {
     "duration": 0.067223,
     "end_time": "2023-05-15T08:56:12.441425",
     "exception": false,
     "start_time": "2023-05-15T08:56:12.374202",
     "status": "completed"
    },
    "tags": []
   },
   "outputs": [],
   "source": [
    "# predictorPickleName = './nb-predictor_1.pkl'\n",
    "# dumpPickle(predictorPickleName, predictor)\n",
    "\n",
    "# #Because the one-hot encoding creates a different amount of features (columns in the dataframe), it is important to know which features are used in the Naive Bayes classifier as to not get into an error with different dimensions.\n",
    "# predictorFeaturesName = './nb-predictor-features_1.pkl'\n",
    "# dumpPickle(predictorFeaturesName, list(df.columns))"
   ]
  },
  {
   "cell_type": "code",
   "execution_count": 51,
   "id": "d2ef2cc3",
   "metadata": {
    "execution": {
     "iopub.execute_input": "2023-05-15T08:56:12.558891Z",
     "iopub.status.busy": "2023-05-15T08:56:12.557434Z",
     "iopub.status.idle": "2023-05-15T08:56:12.583769Z",
     "shell.execute_reply": "2023-05-15T08:56:12.582076Z"
    },
    "papermill": {
     "duration": 0.087968,
     "end_time": "2023-05-15T08:56:12.586574",
     "exception": false,
     "start_time": "2023-05-15T08:56:12.498606",
     "status": "completed"
    },
    "tags": []
   },
   "outputs": [
    {
     "name": "stdout",
     "output_type": "stream",
     "text": [
      "Saved model to disk\n"
     ]
    }
   ],
   "source": [
    "# predictorPickleName = './nb-predictor_4'\n",
    "# dumpPickle(predictorPickleName, modelNN)\n",
    "# modelNN.save(predictorPickleName)\n",
    "# tf.keras.models.save_model(modelNN, predictorPickleName)\n",
    "# serialize model to JSON\n",
    "modelNN_json = modelNN.to_json()\n",
    "with open(\"./nb-predictor_nn_model_1.json\", \"w\") as json_file:\n",
    "    json_file.write(modelNN_json)\n",
    "# serialize weights to HDF5\n",
    "modelNN.save_weights(\"model.h5\")\n",
    "print(\"Saved model to disk\")\n",
    "\n",
    "#Because the one-hot encoding creates a different amount of features (columns in the dataframe), it is important to know which features are used in the Naive Bayes classifier as to not get into an error with different dimensions.\n",
    "predictorFeaturesName = './nb-predictor-features_1.pkl'\n",
    "dumpPickle(predictorFeaturesName, list(df.columns))"
   ]
  },
  {
   "cell_type": "code",
   "execution_count": null,
   "id": "f194384d",
   "metadata": {
    "papermill": {
     "duration": 0.056835,
     "end_time": "2023-05-15T08:56:12.700464",
     "exception": false,
     "start_time": "2023-05-15T08:56:12.643629",
     "status": "completed"
    },
    "tags": []
   },
   "outputs": [],
   "source": []
  }
 ],
 "metadata": {
  "kernelspec": {
   "display_name": "Python 3",
   "language": "python",
   "name": "python3"
  },
  "language_info": {
   "codemirror_mode": {
    "name": "ipython",
    "version": 3
   },
   "file_extension": ".py",
   "mimetype": "text/x-python",
   "name": "python",
   "nbconvert_exporter": "python",
   "pygments_lexer": "ipython3",
   "version": "3.7.12"
  },
  "papermill": {
   "default_parameters": {},
   "duration": 51.113422,
   "end_time": "2023-05-15T08:56:15.791310",
   "environment_variables": {},
   "exception": null,
   "input_path": "__notebook__.ipynb",
   "output_path": "__notebook__.ipynb",
   "parameters": {},
   "start_time": "2023-05-15T08:55:24.677888",
   "version": "2.3.4"
  }
 },
 "nbformat": 4,
 "nbformat_minor": 5
}
